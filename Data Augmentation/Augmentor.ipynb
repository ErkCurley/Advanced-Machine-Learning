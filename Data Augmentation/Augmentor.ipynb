{
 "cells": [
  {
   "cell_type": "code",
   "execution_count": 1,
   "metadata": {},
   "outputs": [],
   "source": [
    "import Augmentor"
   ]
  },
  {
   "cell_type": "code",
   "execution_count": 2,
   "metadata": {},
   "outputs": [
    {
     "name": "stderr",
     "output_type": "stream",
     "text": [
      "Executing Pipeline:   0%|          | 0/400 [00:00<?, ? Samples/s]"
     ]
    },
    {
     "name": "stdout",
     "output_type": "stream",
     "text": [
      "Initialised with 10 image(s) found.\n",
      "Output directory set to ./augmentor_train/input/cats\\output."
     ]
    },
    {
     "name": "stderr",
     "output_type": "stream",
     "text": [
      "Processing <PIL.Image.Image image mode=RGB size=499x375 at 0x1D6DC07A978>: 100%|██████████| 400/400 [00:00<00:00, 436.11 Samples/s]\n"
     ]
    }
   ],
   "source": [
    "p = Augmentor.Pipeline(\"./augmentor_train/input/cats\")\n",
    "p.rotate(probability=1, max_left_rotation=10, max_right_rotation=10)\n",
    "p.zoom(probability=1, min_factor=1.1, max_factor=1.5)\n",
    "p.sample(400)"
   ]
  },
  {
   "cell_type": "code",
   "execution_count": 3,
   "metadata": {},
   "outputs": [
    {
     "name": "stderr",
     "output_type": "stream",
     "text": [
      "Executing Pipeline:   0%|          | 0/400 [00:00<?, ? Samples/s]"
     ]
    },
    {
     "name": "stdout",
     "output_type": "stream",
     "text": [
      "Initialised with 10 image(s) found.\n",
      "Output directory set to ./augmentor_train/input/cats\\output."
     ]
    },
    {
     "name": "stderr",
     "output_type": "stream",
     "text": [
      "Processing <PIL.Image.Image image mode=RGB size=495x499 at 0x1D6DBE6FF28>: 100%|██████████| 400/400 [00:00<00:00, 507.05 Samples/s]\n"
     ]
    }
   ],
   "source": [
    "p1 = Augmentor.Pipeline(\"./augmentor_train/input/cats\")\n",
    "p1.skew(1)\n",
    "p1.sample(400)"
   ]
  },
  {
   "cell_type": "code",
   "execution_count": 4,
   "metadata": {},
   "outputs": [
    {
     "name": "stderr",
     "output_type": "stream",
     "text": [
      "Executing Pipeline:   0%|          | 0/400 [00:00<?, ? Samples/s]"
     ]
    },
    {
     "name": "stdout",
     "output_type": "stream",
     "text": [
      "Initialised with 10 image(s) found.\n",
      "Output directory set to ./augmentor_train/input/cats\\output."
     ]
    },
    {
     "name": "stderr",
     "output_type": "stream",
     "text": [
      "Processing <PIL.Image.Image image mode=RGB size=500x414 at 0x1D699E43320>: 100%|██████████| 400/400 [00:52<00:00,  7.58 Samples/s]\n"
     ]
    }
   ],
   "source": [
    "p2 = Augmentor.Pipeline(\"./augmentor_train/input/cats\")\n",
    "p2.random_distortion(1,100,100,8)\n",
    "p2.sample(400)"
   ]
  },
  {
   "cell_type": "code",
   "execution_count": 5,
   "metadata": {},
   "outputs": [
    {
     "name": "stderr",
     "output_type": "stream",
     "text": [
      "Processing <PIL.Image.Image image mode=RGB size=461x345 at 0x1D696FE9400>:   0%|          | 0/400 [00:00<?, ? Samples/s]"
     ]
    },
    {
     "name": "stdout",
     "output_type": "stream",
     "text": [
      "Initialised with 10 image(s) found.\n",
      "Output directory set to ./augmentor_train/input/cats\\output."
     ]
    },
    {
     "name": "stderr",
     "output_type": "stream",
     "text": [
      "Processing <PIL.Image.Image image mode=RGB size=500x374 at 0x1D6DC0C0748>: 100%|██████████| 400/400 [00:00<00:00, 547.43 Samples/s]\n"
     ]
    }
   ],
   "source": [
    "p3 = Augmentor.Pipeline(\"./augmentor_train/input/cats\")\n",
    "p3.shear(1,max_shear_left=20,max_shear_right=20)\n",
    "p3.sample(400)"
   ]
  },
  {
   "cell_type": "code",
   "execution_count": 6,
   "metadata": {},
   "outputs": [
    {
     "name": "stderr",
     "output_type": "stream",
     "text": [
      "Processing <PIL.JpegImagePlugin.JpegImageFile image mode=RGB size=461x345 at 0x1D6DBE563C8>:   4%|▍         | 16/400 [00:00<00:53,  7.19 Samples/s]"
     ]
    },
    {
     "name": "stdout",
     "output_type": "stream",
     "text": [
      "Initialised with 10 image(s) found.\n",
      "Output directory set to ./augmentor_train/input/cats\\output."
     ]
    },
    {
     "name": "stderr",
     "output_type": "stream",
     "text": [
      "Processing <PIL.JpegImagePlugin.JpegImageFile image mode=RGB size=500x374 at 0x1D6DC083748>: 100%|██████████| 400/400 [00:00<00:00, 706.56 Samples/s]\n"
     ]
    }
   ],
   "source": [
    "p4 = Augmentor.Pipeline(\"./augmentor_train/input/cats\")\n",
    "p4.random_erasing(1,.5)\n",
    "p4.sample(400)"
   ]
  },
  {
   "cell_type": "code",
   "execution_count": null,
   "metadata": {},
   "outputs": [],
   "source": []
  },
  {
   "cell_type": "code",
   "execution_count": 7,
   "metadata": {},
   "outputs": [
    {
     "name": "stderr",
     "output_type": "stream",
     "text": [
      "Executing Pipeline:   0%|          | 0/400 [00:00<?, ? Samples/s]"
     ]
    },
    {
     "name": "stdout",
     "output_type": "stream",
     "text": [
      "Initialised with 10 image(s) found.\n",
      "Output directory set to ./augmentor_train/input/dogs\\output."
     ]
    },
    {
     "name": "stderr",
     "output_type": "stream",
     "text": [
      "Processing <PIL.Image.Image image mode=RGB size=469x500 at 0x1D6DBE8A1D0>: 100%|██████████| 400/400 [00:00<00:00, 406.00 Samples/s]\n"
     ]
    }
   ],
   "source": [
    "p = Augmentor.Pipeline(\"./augmentor_train/input/dogs\")\n",
    "p.rotate(probability=1, max_left_rotation=10, max_right_rotation=10)\n",
    "p.zoom(probability=1, min_factor=1.1, max_factor=1.5)\n",
    "p.sample(400)"
   ]
  },
  {
   "cell_type": "code",
   "execution_count": 8,
   "metadata": {},
   "outputs": [
    {
     "name": "stderr",
     "output_type": "stream",
     "text": [
      "Processing <PIL.Image.Image image mode=RGB size=499x375 at 0x1D6DC092E48>:   0%|          | 0/400 [00:00<?, ? Samples/s]"
     ]
    },
    {
     "name": "stdout",
     "output_type": "stream",
     "text": [
      "Initialised with 10 image(s) found.\n",
      "Output directory set to ./augmentor_train/input/dogs\\output."
     ]
    },
    {
     "name": "stderr",
     "output_type": "stream",
     "text": [
      "Processing <PIL.Image.Image image mode=RGB size=187x199 at 0x1D6DC0B8E80>: 100%|██████████| 400/400 [00:00<00:00, 518.50 Samples/s]\n"
     ]
    }
   ],
   "source": [
    "p1 = Augmentor.Pipeline(\"./augmentor_train/input/dogs\")\n",
    "p1.skew(1)\n",
    "p1.sample(400)"
   ]
  },
  {
   "cell_type": "code",
   "execution_count": 9,
   "metadata": {},
   "outputs": [
    {
     "name": "stderr",
     "output_type": "stream",
     "text": [
      "Executing Pipeline:   0%|          | 0/400 [00:00<?, ? Samples/s]"
     ]
    },
    {
     "name": "stdout",
     "output_type": "stream",
     "text": [
      "Initialised with 10 image(s) found.\n",
      "Output directory set to ./augmentor_train/input/dogs\\output."
     ]
    },
    {
     "name": "stderr",
     "output_type": "stream",
     "text": [
      "Processing <PIL.Image.Image image mode=RGB size=499x375 at 0x1D6A9B17668>: 100%|██████████| 400/400 [00:53<00:00,  7.50 Samples/s]\n"
     ]
    }
   ],
   "source": [
    "p2 = Augmentor.Pipeline(\"./augmentor_train/input/dogs\")\n",
    "p2.random_distortion(1,100,100,8)\n",
    "p2.sample(400)"
   ]
  },
  {
   "cell_type": "code",
   "execution_count": 10,
   "metadata": {},
   "outputs": [
    {
     "name": "stderr",
     "output_type": "stream",
     "text": [
      "Processing <PIL.Image.Image image mode=RGB size=499x375 at 0x1D6A9B4DFD0>:   0%|          | 0/400 [00:00<?, ? Samples/s]"
     ]
    },
    {
     "name": "stdout",
     "output_type": "stream",
     "text": [
      "Initialised with 10 image(s) found.\n",
      "Output directory set to ./augmentor_train/input/dogs\\output."
     ]
    },
    {
     "name": "stderr",
     "output_type": "stream",
     "text": [
      "Processing <PIL.Image.Image image mode=RGB size=300x287 at 0x1D6DBE8AC88>: 100%|██████████| 400/400 [00:00<00:00, 529.74 Samples/s]\n"
     ]
    }
   ],
   "source": [
    "p3 = Augmentor.Pipeline(\"./augmentor_train/input/dogs\")\n",
    "p3.shear(1,max_shear_left=20,max_shear_right=20)\n",
    "p3.sample(400)"
   ]
  },
  {
   "cell_type": "code",
   "execution_count": 11,
   "metadata": {},
   "outputs": [
    {
     "name": "stderr",
     "output_type": "stream",
     "text": [
      "Processing <PIL.JpegImagePlugin.JpegImageFile image mode=RGB size=368x500 at 0x1D696FE9518>:   7%|▋         | 28/400 [00:00<00:47,  7.87 Samples/s]"
     ]
    },
    {
     "name": "stdout",
     "output_type": "stream",
     "text": [
      "Initialised with 10 image(s) found.\n",
      "Output directory set to ./augmentor_train/input/dogs\\output."
     ]
    },
    {
     "name": "stderr",
     "output_type": "stream",
     "text": [
      "Processing <PIL.JpegImagePlugin.JpegImageFile image mode=RGB size=499x488 at 0x1D6DC083780>: 100%|██████████| 400/400 [00:00<00:00, 695.50 Samples/s]\n"
     ]
    }
   ],
   "source": [
    "p4 = Augmentor.Pipeline(\"./augmentor_train/input/dogs\")\n",
    "p4.random_erasing(1,.5)\n",
    "p4.sample(400)"
   ]
  }
 ],
 "metadata": {
  "kernelspec": {
   "display_name": "Python 3",
   "language": "python",
   "name": "python3"
  },
  "language_info": {
   "codemirror_mode": {
    "name": "ipython",
    "version": 3
   },
   "file_extension": ".py",
   "mimetype": "text/x-python",
   "name": "python",
   "nbconvert_exporter": "python",
   "pygments_lexer": "ipython3",
   "version": "3.6.10"
  }
 },
 "nbformat": 4,
 "nbformat_minor": 4
}
