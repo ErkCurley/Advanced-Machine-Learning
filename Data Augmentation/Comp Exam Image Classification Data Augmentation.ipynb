{
 "cells": [
  {
   "cell_type": "code",
   "execution_count": 2,
   "metadata": {},
   "outputs": [
    {
     "name": "stderr",
     "output_type": "stream",
     "text": [
      "Using TensorFlow backend.\n"
     ]
    },
    {
     "data": {
      "text/plain": [
       "'2.3.1'"
      ]
     },
     "execution_count": 2,
     "metadata": {},
     "output_type": "execute_result"
    }
   ],
   "source": [
    "import keras\n",
    "keras.__version__"
   ]
  },
  {
   "cell_type": "code",
   "execution_count": 3,
   "metadata": {},
   "outputs": [],
   "source": [
    "import os, shutil"
   ]
  },
  {
   "cell_type": "code",
   "execution_count": 4,
   "metadata": {},
   "outputs": [],
   "source": [
    "# The path to the directory where the original\n",
    "# dataset was uncompressed\n",
    "original_dataset_dir = '/Users/EricC/Desktop/Data Analytics/Data Augmentation - Comps Exam Shanker/train/train'\n",
    "\n",
    "# The directory where we will\n",
    "# store our smaller dataset\n",
    "base_dir = './cats_and_dogs_small'\n",
    "os.mkdir(base_dir)\n",
    "\n",
    "# Directories for our training,\n",
    "# validation and test splits\n",
    "train_dir = os.path.join(base_dir, 'train')\n",
    "os.mkdir(train_dir)\n",
    "validation_dir = os.path.join(base_dir, 'validation')\n",
    "os.mkdir(validation_dir)\n",
    "test_dir = os.path.join(base_dir, 'test')\n",
    "os.mkdir(test_dir)\n",
    "\n",
    "# Directory with our training cat pictures\n",
    "train_cats_dir = os.path.join(train_dir, 'cats')\n",
    "os.mkdir(train_cats_dir)\n",
    "\n",
    "# Directory with our training dog pictures\n",
    "train_dogs_dir = os.path.join(train_dir, 'dogs')\n",
    "os.mkdir(train_dogs_dir)\n",
    "\n",
    "# Directory with our validation cat pictures\n",
    "validation_cats_dir = os.path.join(validation_dir, 'cats')\n",
    "os.mkdir(validation_cats_dir)\n",
    "\n",
    "# Directory with our validation dog pictures\n",
    "validation_dogs_dir = os.path.join(validation_dir, 'dogs')\n",
    "os.mkdir(validation_dogs_dir)\n",
    "\n",
    "# Directory with our validation cat pictures\n",
    "test_cats_dir = os.path.join(test_dir, 'cats')\n",
    "os.mkdir(test_cats_dir)\n",
    "\n",
    "# Directory with our validation dog pictures\n",
    "test_dogs_dir = os.path.join(test_dir, 'dogs')\n",
    "os.mkdir(test_dogs_dir)\n",
    "\n",
    "# Copy first 1000 cat images to train_cats_dir\n",
    "fnames = ['cat.{}.jpg'.format(i) for i in range(1000)]\n",
    "for fname in fnames:\n",
    "    src = os.path.join(original_dataset_dir, fname)\n",
    "    dst = os.path.join(train_cats_dir, fname)\n",
    "    shutil.copyfile(src, dst)\n",
    "\n",
    "# Copy next 500 cat images to validation_cats_dir\n",
    "fnames = ['cat.{}.jpg'.format(i) for i in range(1000, 1500)]\n",
    "for fname in fnames:\n",
    "    src = os.path.join(original_dataset_dir, fname)\n",
    "    dst = os.path.join(validation_cats_dir, fname)\n",
    "    shutil.copyfile(src, dst)\n",
    "    \n",
    "# Copy next 500 cat images to test_cats_dir\n",
    "fnames = ['cat.{}.jpg'.format(i) for i in range(1500, 2000)]\n",
    "for fname in fnames:\n",
    "    src = os.path.join(original_dataset_dir, fname)\n",
    "    dst = os.path.join(test_cats_dir, fname)\n",
    "    shutil.copyfile(src, dst)\n",
    "    \n",
    "# Copy first 1000 dog images to train_dogs_dir\n",
    "fnames = ['dog.{}.jpg'.format(i) for i in range(1000)]\n",
    "for fname in fnames:\n",
    "    src = os.path.join(original_dataset_dir, fname)\n",
    "    dst = os.path.join(train_dogs_dir, fname)\n",
    "    shutil.copyfile(src, dst)\n",
    "    \n",
    "# Copy next 500 dog images to validation_dogs_dir\n",
    "fnames = ['dog.{}.jpg'.format(i) for i in range(1000, 1500)]\n",
    "for fname in fnames:\n",
    "    src = os.path.join(original_dataset_dir, fname)\n",
    "    dst = os.path.join(validation_dogs_dir, fname)\n",
    "    shutil.copyfile(src, dst)\n",
    "    \n",
    "# Copy next 500 dog images to test_dogs_dir\n",
    "fnames = ['dog.{}.jpg'.format(i) for i in range(1500, 2000)]\n",
    "for fname in fnames:\n",
    "    src = os.path.join(original_dataset_dir, fname)\n",
    "    dst = os.path.join(test_dogs_dir, fname)\n",
    "    shutil.copyfile(src, dst)"
   ]
  },
  {
   "cell_type": "code",
   "execution_count": 5,
   "metadata": {},
   "outputs": [
    {
     "name": "stdout",
     "output_type": "stream",
     "text": [
      "total training cat images: 1000\n",
      "total training dog images: 1000\n",
      "total validation cat images: 500\n",
      "total validation dog images: 500\n",
      "total test cat images: 500\n",
      "total test dog images: 500\n"
     ]
    }
   ],
   "source": [
    "print('total training cat images:', len(os.listdir(train_cats_dir)))\n",
    "print('total training dog images:', len(os.listdir(train_dogs_dir)))\n",
    "print('total validation cat images:', len(os.listdir(validation_cats_dir)))\n",
    "print('total validation dog images:', len(os.listdir(validation_dogs_dir)))\n",
    "print('total test cat images:', len(os.listdir(test_cats_dir)))\n",
    "print('total test dog images:', len(os.listdir(test_dogs_dir)))"
   ]
  },
  {
   "cell_type": "code",
   "execution_count": 6,
   "metadata": {},
   "outputs": [],
   "source": [
    "from keras import layers\n",
    "from keras import models\n",
    "\n",
    "model = models.Sequential()\n",
    "model.add(layers.Conv2D(32, (3, 3), activation='relu',\n",
    "                        input_shape=(150, 150, 3)))\n",
    "model.add(layers.MaxPooling2D((2, 2)))\n",
    "model.add(layers.Conv2D(64, (3, 3), activation='relu'))\n",
    "model.add(layers.MaxPooling2D((2, 2)))\n",
    "model.add(layers.Conv2D(128, (3, 3), activation='relu'))\n",
    "model.add(layers.MaxPooling2D((2, 2)))\n",
    "model.add(layers.Conv2D(128, (3, 3), activation='relu'))\n",
    "model.add(layers.MaxPooling2D((2, 2)))\n",
    "model.add(layers.Flatten())\n",
    "model.add(layers.Dense(512, activation='relu'))\n",
    "model.add(layers.Dense(1, activation='sigmoid'))"
   ]
  },
  {
   "cell_type": "code",
   "execution_count": 7,
   "metadata": {},
   "outputs": [
    {
     "name": "stdout",
     "output_type": "stream",
     "text": [
      "Model: \"sequential_1\"\n",
      "_________________________________________________________________\n",
      "Layer (type)                 Output Shape              Param #   \n",
      "=================================================================\n",
      "conv2d_1 (Conv2D)            (None, 148, 148, 32)      896       \n",
      "_________________________________________________________________\n",
      "max_pooling2d_1 (MaxPooling2 (None, 74, 74, 32)        0         \n",
      "_________________________________________________________________\n",
      "conv2d_2 (Conv2D)            (None, 72, 72, 64)        18496     \n",
      "_________________________________________________________________\n",
      "max_pooling2d_2 (MaxPooling2 (None, 36, 36, 64)        0         \n",
      "_________________________________________________________________\n",
      "conv2d_3 (Conv2D)            (None, 34, 34, 128)       73856     \n",
      "_________________________________________________________________\n",
      "max_pooling2d_3 (MaxPooling2 (None, 17, 17, 128)       0         \n",
      "_________________________________________________________________\n",
      "conv2d_4 (Conv2D)            (None, 15, 15, 128)       147584    \n",
      "_________________________________________________________________\n",
      "max_pooling2d_4 (MaxPooling2 (None, 7, 7, 128)         0         \n",
      "_________________________________________________________________\n",
      "flatten_1 (Flatten)          (None, 6272)              0         \n",
      "_________________________________________________________________\n",
      "dense_1 (Dense)              (None, 512)               3211776   \n",
      "_________________________________________________________________\n",
      "dense_2 (Dense)              (None, 1)                 513       \n",
      "=================================================================\n",
      "Total params: 3,453,121\n",
      "Trainable params: 3,453,121\n",
      "Non-trainable params: 0\n",
      "_________________________________________________________________\n"
     ]
    }
   ],
   "source": [
    "model.summary()\n"
   ]
  },
  {
   "cell_type": "code",
   "execution_count": 8,
   "metadata": {},
   "outputs": [],
   "source": [
    "from keras import optimizers\n",
    "\n",
    "model.compile(loss='binary_crossentropy',\n",
    "              optimizer=optimizers.RMSprop(lr=1e-4),\n",
    "              metrics=['acc'])"
   ]
  },
  {
   "cell_type": "code",
   "execution_count": 9,
   "metadata": {},
   "outputs": [
    {
     "name": "stdout",
     "output_type": "stream",
     "text": [
      "Found 2000 images belonging to 2 classes.\n",
      "Found 1000 images belonging to 2 classes.\n"
     ]
    }
   ],
   "source": [
    "from keras.preprocessing.image import ImageDataGenerator\n",
    "\n",
    "# All images will be rescaled by 1./255\n",
    "train_datagen = ImageDataGenerator(rescale=1./255)\n",
    "test_datagen = ImageDataGenerator(rescale=1./255)\n",
    "\n",
    "train_generator = train_datagen.flow_from_directory(\n",
    "        # This is the target directory\n",
    "        train_dir,\n",
    "        # All images will be resized to 150x150\n",
    "        target_size=(150, 150),\n",
    "        batch_size=20,\n",
    "        # Since we use binary_crossentropy loss, we need binary labels\n",
    "        class_mode='binary')\n",
    "\n",
    "validation_generator = test_datagen.flow_from_directory(\n",
    "        validation_dir,\n",
    "        target_size=(150, 150),\n",
    "        batch_size=20,\n",
    "        class_mode='binary')"
   ]
  },
  {
   "cell_type": "code",
   "execution_count": 10,
   "metadata": {},
   "outputs": [
    {
     "name": "stdout",
     "output_type": "stream",
     "text": [
      "data batch shape: (20, 150, 150, 3)\n",
      "labels batch shape: (20,)\n"
     ]
    }
   ],
   "source": [
    "for data_batch, labels_batch in train_generator:\n",
    "    print('data batch shape:', data_batch.shape)\n",
    "    print('labels batch shape:', labels_batch.shape)\n",
    "    break"
   ]
  },
  {
   "cell_type": "code",
   "execution_count": 11,
   "metadata": {},
   "outputs": [
    {
     "name": "stdout",
     "output_type": "stream",
     "text": [
      "Epoch 1/30\n",
      "100/100 [==============================] - 35s 348ms/step - loss: 0.6904 - acc: 0.5395 - val_loss: 0.6811 - val_acc: 0.5850\n",
      "Epoch 2/30\n",
      "100/100 [==============================] - 33s 329ms/step - loss: 0.6561 - acc: 0.6035 - val_loss: 0.7843 - val_acc: 0.5190\n",
      "Epoch 3/30\n",
      "100/100 [==============================] - 33s 332ms/step - loss: 0.6204 - acc: 0.6585 - val_loss: 0.6755 - val_acc: 0.6070\n",
      "Epoch 4/30\n",
      "100/100 [==============================] - 33s 333ms/step - loss: 0.5756 - acc: 0.7000 - val_loss: 0.5347 - val_acc: 0.6760\n",
      "Epoch 5/30\n",
      "100/100 [==============================] - 33s 332ms/step - loss: 0.5409 - acc: 0.7360 - val_loss: 0.7524 - val_acc: 0.6810\n",
      "Epoch 6/30\n",
      "100/100 [==============================] - 33s 329ms/step - loss: 0.5039 - acc: 0.7595 - val_loss: 0.5729 - val_acc: 0.7130\n",
      "Epoch 7/30\n",
      "100/100 [==============================] - 33s 330ms/step - loss: 0.4894 - acc: 0.7605 - val_loss: 0.6786 - val_acc: 0.6970\n",
      "Epoch 8/30\n",
      "100/100 [==============================] - 33s 327ms/step - loss: 0.4594 - acc: 0.7770 - val_loss: 0.7250 - val_acc: 0.7030\n",
      "Epoch 9/30\n",
      "100/100 [==============================] - 33s 329ms/step - loss: 0.4281 - acc: 0.7955 - val_loss: 0.5427 - val_acc: 0.7050\n",
      "Epoch 10/30\n",
      "100/100 [==============================] - 33s 329ms/step - loss: 0.3945 - acc: 0.8310 - val_loss: 0.7631 - val_acc: 0.6990\n",
      "Epoch 11/30\n",
      "100/100 [==============================] - 33s 333ms/step - loss: 0.3718 - acc: 0.8365 - val_loss: 0.5392 - val_acc: 0.7180\n",
      "Epoch 12/30\n",
      "100/100 [==============================] - 33s 329ms/step - loss: 0.3491 - acc: 0.8525 - val_loss: 0.7250 - val_acc: 0.6770\n",
      "Epoch 13/30\n",
      "100/100 [==============================] - 33s 329ms/step - loss: 0.3229 - acc: 0.8620 - val_loss: 0.7980 - val_acc: 0.6770\n",
      "Epoch 14/30\n",
      "100/100 [==============================] - 33s 333ms/step - loss: 0.2949 - acc: 0.8735 - val_loss: 0.4265 - val_acc: 0.6940\n",
      "Epoch 15/30\n",
      "100/100 [==============================] - 33s 329ms/step - loss: 0.2673 - acc: 0.8925 - val_loss: 0.8920 - val_acc: 0.7150\n",
      "Epoch 16/30\n",
      "100/100 [==============================] - 33s 332ms/step - loss: 0.2436 - acc: 0.9070 - val_loss: 0.4784 - val_acc: 0.7170\n",
      "Epoch 17/30\n",
      "100/100 [==============================] - 33s 333ms/step - loss: 0.2150 - acc: 0.9205 - val_loss: 0.2267 - val_acc: 0.7190\n",
      "Epoch 18/30\n",
      "100/100 [==============================] - 33s 334ms/step - loss: 0.1921 - acc: 0.9280 - val_loss: 0.6053 - val_acc: 0.7240\n",
      "Epoch 19/30\n",
      "100/100 [==============================] - 33s 331ms/step - loss: 0.1796 - acc: 0.9360 - val_loss: 0.5222 - val_acc: 0.7030\n",
      "Epoch 20/30\n",
      "100/100 [==============================] - 33s 332ms/step - loss: 0.1462 - acc: 0.9495 - val_loss: 0.5694 - val_acc: 0.7120\n",
      "Epoch 21/30\n",
      "100/100 [==============================] - 32s 324ms/step - loss: 0.1350 - acc: 0.9550 - val_loss: 0.3194 - val_acc: 0.7140\n",
      "Epoch 22/30\n",
      "100/100 [==============================] - 32s 323ms/step - loss: 0.1105 - acc: 0.9645 - val_loss: 1.1147 - val_acc: 0.7070\n",
      "Epoch 23/30\n",
      "100/100 [==============================] - 32s 324ms/step - loss: 0.0973 - acc: 0.9690 - val_loss: 1.0736 - val_acc: 0.6960\n",
      "Epoch 24/30\n",
      "100/100 [==============================] - 32s 323ms/step - loss: 0.0881 - acc: 0.9715 - val_loss: 0.4520 - val_acc: 0.7080\n",
      "Epoch 25/30\n",
      "100/100 [==============================] - 32s 324ms/step - loss: 0.0721 - acc: 0.9795 - val_loss: 0.8389 - val_acc: 0.7020\n",
      "Epoch 26/30\n",
      "100/100 [==============================] - 32s 324ms/step - loss: 0.0670 - acc: 0.9840 - val_loss: 0.9409 - val_acc: 0.7150\n",
      "Epoch 27/30\n",
      "100/100 [==============================] - 32s 324ms/step - loss: 0.0508 - acc: 0.9885 - val_loss: 1.3920 - val_acc: 0.7130\n",
      "Epoch 28/30\n",
      "100/100 [==============================] - 33s 326ms/step - loss: 0.0446 - acc: 0.9885 - val_loss: 1.8596 - val_acc: 0.7020\n",
      "Epoch 29/30\n",
      "100/100 [==============================] - 32s 321ms/step - loss: 0.0395 - acc: 0.9900 - val_loss: 0.5148 - val_acc: 0.7070\n",
      "Epoch 30/30\n",
      "100/100 [==============================] - 32s 323ms/step - loss: 0.0390 - acc: 0.9900 - val_loss: 1.9156 - val_acc: 0.7180\n"
     ]
    }
   ],
   "source": [
    "history = model.fit_generator(\n",
    "      train_generator,\n",
    "      steps_per_epoch=100,\n",
    "      epochs=30,\n",
    "      validation_data=validation_generator,\n",
    "      validation_steps=50)"
   ]
  },
  {
   "cell_type": "code",
   "execution_count": 12,
   "metadata": {},
   "outputs": [],
   "source": [
    "model.save('cats_and_dogs_small_1.h5')"
   ]
  },
  {
   "cell_type": "markdown",
   "metadata": {},
   "source": [
    "Test #1 Below is the base model which uses 2000 samples split between cats and dogs"
   ]
  },
  {
   "cell_type": "code",
   "execution_count": 13,
   "metadata": {},
   "outputs": [
    {
     "data": {
      "image/png": "[encoded data removed]",
      "text/plain": [
       "<Figure size 432x288 with 1 Axes>"
      ]
     },
     "metadata": {
      "needs_background": "light"
     },
     "output_type": "display_data"
    },
    {
     "data": {
      "image/png": "[encoded data removed]",
      "text/plain": [
       "<Figure size 432x288 with 1 Axes>"
      ]
     },
     "metadata": {
      "needs_background": "light"
     },
     "output_type": "display_data"
    }
   ],
   "source": [
    "import matplotlib.pyplot as plt\n",
    "\n",
    "acc = history.history['acc']\n",
    "val_acc = history.history['val_acc']\n",
    "loss = history.history['loss']\n",
    "val_loss = history.history['val_loss']\n",
    "\n",
    "epochs = range(len(acc))\n",
    "\n",
    "plt.plot(epochs, acc, 'bo', label='Training acc')\n",
    "plt.plot(epochs, val_acc, 'b', label='Validation acc')\n",
    "plt.title('Training and validation accuracy')\n",
    "plt.legend()\n",
    "\n",
    "plt.figure()\n",
    "\n",
    "plt.plot(epochs, loss, 'bo', label='Training loss')\n",
    "plt.plot(epochs, val_loss, 'b', label='Validation loss')\n",
    "plt.title('Training and validation loss')\n",
    "plt.legend()\n",
    "\n",
    "plt.show()"
   ]
  },
  {
   "cell_type": "code",
   "execution_count": 16,
   "metadata": {},
   "outputs": [],
   "source": [
    "# The path to the directory where the original\n",
    "# dataset was uncompressed\n",
    "original_dataset_dir = '/Users/EricC/Desktop/Data Analytics/Data Augmentation - Comps Exam Shanker/train/train'\n",
    "\n",
    "# The directory where we will\n",
    "# store our smaller dataset\n",
    "base_dir = './cats_and_dogs_small'\n",
    "\n",
    "# Directories for our training,\n",
    "# validation and test splits\n",
    "train_dir = os.path.join(base_dir, 'train_v_small')\n",
    "os.mkdir(train_dir)\n",
    "validation_dir = os.path.join(base_dir, 'validation_v_small')\n",
    "os.mkdir(validation_dir)\n",
    "test_dir = os.path.join(base_dir, 'test_v_small')\n",
    "os.mkdir(test_dir)\n",
    "\n",
    "# Directory with our training cat pictures\n",
    "train_cats_dir = os.path.join(train_dir, 'cats')\n",
    "os.mkdir(train_cats_dir)\n",
    "\n",
    "# Directory with our training dog pictures\n",
    "train_dogs_dir = os.path.join(train_dir, 'dogs')\n",
    "os.mkdir(train_dogs_dir)\n",
    "\n",
    "# Directory with our validation cat pictures\n",
    "validation_cats_dir = os.path.join(validation_dir, 'cats')\n",
    "os.mkdir(validation_cats_dir)\n",
    "\n",
    "# Directory with our validation dog pictures\n",
    "validation_dogs_dir = os.path.join(validation_dir, 'dogs')\n",
    "os.mkdir(validation_dogs_dir)\n",
    "\n",
    "# Directory with our validation cat pictures\n",
    "test_cats_dir = os.path.join(test_dir, 'cats')\n",
    "os.mkdir(test_cats_dir)\n",
    "\n",
    "# Directory with our validation dog pictures\n",
    "test_dogs_dir = os.path.join(test_dir, 'dogs')\n",
    "os.mkdir(test_dogs_dir)\n",
    "\n",
    "# Copy first 10 cat images to train_cats_dir\n",
    "fnames = ['cat.{}.jpg'.format(i) for i in range(10)]\n",
    "for fname in fnames:\n",
    "    src = os.path.join(original_dataset_dir, fname)\n",
    "    dst = os.path.join(train_cats_dir, fname)\n",
    "    shutil.copyfile(src, dst)\n",
    "\n",
    "# Copy next 500 cat images to validation_cats_dir\n",
    "fnames = ['cat.{}.jpg'.format(i) for i in range(10, 510)]\n",
    "for fname in fnames:\n",
    "    src = os.path.join(original_dataset_dir, fname)\n",
    "    dst = os.path.join(validation_cats_dir, fname)\n",
    "    shutil.copyfile(src, dst)\n",
    "    \n",
    "# Copy next 500 cat images to test_cats_dir\n",
    "fnames = ['cat.{}.jpg'.format(i) for i in range(510, 1010)]\n",
    "for fname in fnames:\n",
    "    src = os.path.join(original_dataset_dir, fname)\n",
    "    dst = os.path.join(test_cats_dir, fname)\n",
    "    shutil.copyfile(src, dst)\n",
    "    \n",
    "# Copy first 10 dog images to train_dogs_dir\n",
    "fnames = ['dog.{}.jpg'.format(i) for i in range(10)]\n",
    "for fname in fnames:\n",
    "    src = os.path.join(original_dataset_dir, fname)\n",
    "    dst = os.path.join(train_dogs_dir, fname)\n",
    "    shutil.copyfile(src, dst)\n",
    "    \n",
    "# Copy next 500 dog images to validation_dogs_dir\n",
    "fnames = ['dog.{}.jpg'.format(i) for i in range(10, 510)]\n",
    "for fname in fnames:\n",
    "    src = os.path.join(original_dataset_dir, fname)\n",
    "    dst = os.path.join(validation_dogs_dir, fname)\n",
    "    shutil.copyfile(src, dst)\n",
    "    \n",
    "# Copy next 500 dog images to test_dogs_dir\n",
    "fnames = ['dog.{}.jpg'.format(i) for i in range(510, 1010)]\n",
    "for fname in fnames:\n",
    "    src = os.path.join(original_dataset_dir, fname)\n",
    "    dst = os.path.join(test_dogs_dir, fname)\n",
    "    shutil.copyfile(src, dst)"
   ]
  },
  {
   "cell_type": "code",
   "execution_count": 17,
   "metadata": {},
   "outputs": [],
   "source": [
    "\n",
    "model = models.Sequential()\n",
    "model.add(layers.Conv2D(32, (3, 3), activation='relu',\n",
    "                        input_shape=(150, 150, 3)))\n",
    "model.add(layers.MaxPooling2D((2, 2)))\n",
    "model.add(layers.Conv2D(64, (3, 3), activation='relu'))\n",
    "model.add(layers.MaxPooling2D((2, 2)))\n",
    "model.add(layers.Conv2D(128, (3, 3), activation='relu'))\n",
    "model.add(layers.MaxPooling2D((2, 2)))\n",
    "model.add(layers.Conv2D(128, (3, 3), activation='relu'))\n",
    "model.add(layers.MaxPooling2D((2, 2)))\n",
    "model.add(layers.Flatten())\n",
    "model.add(layers.Dropout(0.5))\n",
    "model.add(layers.Dense(512, activation='relu'))\n",
    "model.add(layers.Dense(1, activation='sigmoid'))\n",
    "\n",
    "model.compile(loss='binary_crossentropy',\n",
    "              optimizer=optimizers.RMSprop(lr=1e-4),\n",
    "              metrics=['acc'])"
   ]
  },
  {
   "cell_type": "code",
   "execution_count": 24,
   "metadata": {},
   "outputs": [
    {
     "name": "stdout",
     "output_type": "stream",
     "text": [
      "Found 20 images belonging to 2 classes.\n",
      "Found 1000 images belonging to 2 classes.\n",
      "Epoch 1/30\n",
      "100/100 [==============================] - 46s 461ms/step - loss: 0.0254 - acc: 0.9960 - val_loss: 6.0462 - val_acc: 0.5831\n",
      "Epoch 2/30\n",
      "100/100 [==============================] - 46s 464ms/step - loss: 0.0086 - acc: 0.9970 - val_loss: 3.9624 - val_acc: 0.6024\n",
      "Epoch 3/30\n",
      "100/100 [==============================] - 46s 456ms/step - loss: 0.0281 - acc: 0.9960 - val_loss: 5.1446 - val_acc: 0.6180\n",
      "Epoch 4/30\n",
      "100/100 [==============================] - 46s 456ms/step - loss: 0.0346 - acc: 0.9950 - val_loss: 5.4028 - val_acc: 0.6192\n",
      "Epoch 5/30\n",
      "100/100 [==============================] - 46s 458ms/step - loss: 0.0230 - acc: 0.9935 - val_loss: 4.6607 - val_acc: 0.6161\n",
      "Epoch 6/30\n",
      "100/100 [==============================] - 46s 460ms/step - loss: 0.0229 - acc: 0.9955 - val_loss: 1.9281 - val_acc: 0.6218\n",
      "Epoch 7/30\n",
      "100/100 [==============================] - 46s 459ms/step - loss: 0.0091 - acc: 0.9970 - val_loss: 4.5071 - val_acc: 0.6028\n",
      "Epoch 8/30\n",
      "100/100 [==============================] - 46s 459ms/step - loss: 0.0281 - acc: 0.9945 - val_loss: 3.4370 - val_acc: 0.6140\n",
      "Epoch 9/30\n",
      "100/100 [==============================] - 46s 458ms/step - loss: 0.0335 - acc: 0.9940 - val_loss: 4.4297 - val_acc: 0.6024\n",
      "Epoch 10/30\n",
      "100/100 [==============================] - 46s 458ms/step - loss: 0.0093 - acc: 0.9960 - val_loss: 4.7802 - val_acc: 0.6066\n",
      "Epoch 11/30\n",
      "100/100 [==============================] - 46s 459ms/step - loss: 0.0059 - acc: 0.9985 - val_loss: 7.5546 - val_acc: 0.5992\n",
      "Epoch 12/30\n",
      "100/100 [==============================] - 46s 457ms/step - loss: 0.0144 - acc: 0.9965 - val_loss: 3.4662 - val_acc: 0.6174\n",
      "Epoch 13/30\n",
      "100/100 [==============================] - 46s 460ms/step - loss: 0.0190 - acc: 0.9940 - val_loss: 5.9005 - val_acc: 0.6037\n",
      "Epoch 14/30\n",
      "100/100 [==============================] - 46s 456ms/step - loss: 0.0099 - acc: 0.9955 - val_loss: 7.6371 - val_acc: 0.6244\n",
      "Epoch 15/30\n",
      "100/100 [==============================] - 46s 463ms/step - loss: 0.0023 - acc: 0.9995 - val_loss: 3.1754 - val_acc: 0.6095\n",
      "Epoch 16/30\n",
      "100/100 [==============================] - 46s 461ms/step - loss: 0.0165 - acc: 0.9950 - val_loss: 9.2884 - val_acc: 0.6108\n",
      "Epoch 17/30\n",
      "100/100 [==============================] - 46s 456ms/step - loss: 0.0189 - acc: 0.9960 - val_loss: 4.0313 - val_acc: 0.6072\n",
      "Epoch 18/30\n",
      "100/100 [==============================] - 46s 462ms/step - loss: 0.0072 - acc: 0.9975 - val_loss: 7.5360 - val_acc: 0.5928\n",
      "Epoch 19/30\n",
      "100/100 [==============================] - 45s 454ms/step - loss: 0.0299 - acc: 0.9960 - val_loss: 4.2676 - val_acc: 0.6288\n",
      "Epoch 20/30\n",
      "100/100 [==============================] - 42s 416ms/step - loss: 0.0152 - acc: 0.9970 - val_loss: 4.5953 - val_acc: 0.6224\n",
      "Epoch 21/30\n",
      "100/100 [==============================] - 41s 410ms/step - loss: 0.0127 - acc: 0.9970 - val_loss: 7.2720 - val_acc: 0.6028\n",
      "Epoch 22/30\n",
      "100/100 [==============================] - 41s 413ms/step - loss: 0.0129 - acc: 0.9965 - val_loss: 4.9404 - val_acc: 0.6102\n",
      "Epoch 23/30\n",
      "100/100 [==============================] - 41s 413ms/step - loss: 0.0223 - acc: 0.9945 - val_loss: 2.2448 - val_acc: 0.6110\n",
      "Epoch 24/30\n",
      "100/100 [==============================] - 42s 416ms/step - loss: 0.0057 - acc: 0.9980 - val_loss: 3.3487 - val_acc: 0.6037\n",
      "Epoch 25/30\n",
      "100/100 [==============================] - 41s 411ms/step - loss: 0.0016 - acc: 0.9995 - val_loss: 4.7283 - val_acc: 0.5954\n",
      "Epoch 26/30\n",
      "100/100 [==============================] - 41s 411ms/step - loss: 0.0225 - acc: 0.9960 - val_loss: 6.2860 - val_acc: 0.6015\n",
      "Epoch 27/30\n",
      "100/100 [==============================] - 41s 410ms/step - loss: 0.0033 - acc: 0.9985 - val_loss: 5.3575 - val_acc: 0.6218\n",
      "Epoch 28/30\n",
      "100/100 [==============================] - 41s 412ms/step - loss: 0.0135 - acc: 0.9960 - val_loss: 6.4699 - val_acc: 0.6148\n",
      "Epoch 29/30\n",
      "100/100 [==============================] - 42s 415ms/step - loss: 0.0288 - acc: 0.9955 - val_loss: 4.7314 - val_acc: 0.6037\n",
      "Epoch 30/30\n",
      "100/100 [==============================] - 41s 414ms/step - loss: 0.0078 - acc: 0.9980 - val_loss: 6.2010 - val_acc: 0.5876\n"
     ]
    }
   ],
   "source": [
    "train_datagen = ImageDataGenerator(\n",
    "    rescale=1./255,\n",
    "    rotation_range=40,\n",
    "    width_shift_range=0.2,\n",
    "    height_shift_range=0.2,\n",
    "    shear_range=0.2,\n",
    "    zoom_range=0.2,\n",
    "    horizontal_flip=True,)\n",
    "\n",
    "# Note that the validation data should not be augmented!\n",
    "test_datagen = ImageDataGenerator(rescale=1./255)\n",
    "\n",
    "train_generator = train_datagen.flow_from_directory(\n",
    "        # This is the target directory\n",
    "        train_dir,\n",
    "        # All images will be resized to 150x150\n",
    "        target_size=(150, 150),\n",
    "        batch_size=32,\n",
    "        save_to_dir='./augmented_images',\n",
    "        # Since we use binary_crossentropy loss, we need binary labels\n",
    "        class_mode='binary')\n",
    "\n",
    "validation_generator = test_datagen.flow_from_directory(\n",
    "        validation_dir,\n",
    "        target_size=(150, 150),\n",
    "        batch_size=32,\n",
    "        class_mode='binary')\n",
    "\n",
    "history = model.fit_generator(\n",
    "      train_generator,\n",
    "      steps_per_epoch=100,\n",
    "      epochs=30,\n",
    "      validation_data=validation_generator,\n",
    "      validation_steps=50)"
   ]
  },
  {
   "cell_type": "code",
   "execution_count": 25,
   "metadata": {},
   "outputs": [],
   "source": [
    "model.save('cats_and_dogs_small_2.h5')"
   ]
  },
  {
   "cell_type": "markdown",
   "metadata": {},
   "source": [
    "Test #3 Below are the results for the data augmentation model (Augmentation on 20 training images) --- Test 2 & 3 are out of order"
   ]
  },
  {
   "cell_type": "code",
   "execution_count": 26,
   "metadata": {},
   "outputs": [
    {
     "data": {
      "image/png": "[encoded data removed]",
      "text/plain": [
       "<Figure size 432x288 with 1 Axes>"
      ]
     },
     "metadata": {
      "needs_background": "light"
     },
     "output_type": "display_data"
    },
    {
     "data": {
      "image/png": "[encoded data removed]",
      "text/plain": [
       "<Figure size 432x288 with 1 Axes>"
      ]
     },
     "metadata": {
      "needs_background": "light"
     },
     "output_type": "display_data"
    }
   ],
   "source": [
    "acc = history.history['acc']\n",
    "val_acc = history.history['val_acc']\n",
    "loss = history.history['loss']\n",
    "val_loss = history.history['val_loss']\n",
    "\n",
    "epochs = range(len(acc))\n",
    "\n",
    "plt.plot(epochs, acc, 'bo', label='Training acc')\n",
    "plt.plot(epochs, val_acc, 'b', label='Validation acc')\n",
    "plt.title('Training and validation accuracy')\n",
    "plt.legend()\n",
    "\n",
    "plt.figure()\n",
    "\n",
    "plt.plot(epochs, loss, 'bo', label='Training loss')\n",
    "plt.plot(epochs, val_loss, 'b', label='Validation loss')\n",
    "plt.title('Training and validation loss')\n",
    "plt.legend()\n",
    "\n",
    "plt.show()"
   ]
  },
  {
   "cell_type": "code",
   "execution_count": 27,
   "metadata": {},
   "outputs": [],
   "source": [
    "\n",
    "model = models.Sequential()\n",
    "model.add(layers.Conv2D(32, (3, 3), activation='relu',\n",
    "                        input_shape=(150, 150, 3)))\n",
    "model.add(layers.MaxPooling2D((2, 2)))\n",
    "model.add(layers.Conv2D(64, (3, 3), activation='relu'))\n",
    "model.add(layers.MaxPooling2D((2, 2)))\n",
    "model.add(layers.Conv2D(128, (3, 3), activation='relu'))\n",
    "model.add(layers.MaxPooling2D((2, 2)))\n",
    "model.add(layers.Conv2D(128, (3, 3), activation='relu'))\n",
    "model.add(layers.MaxPooling2D((2, 2)))\n",
    "model.add(layers.Flatten())\n",
    "model.add(layers.Dropout(0.5))\n",
    "model.add(layers.Dense(512, activation='relu'))\n",
    "model.add(layers.Dense(1, activation='sigmoid'))\n",
    "\n",
    "model.compile(loss='binary_crossentropy',\n",
    "              optimizer=optimizers.RMSprop(lr=1e-4),\n",
    "              metrics=['acc'])"
   ]
  },
  {
   "cell_type": "code",
   "execution_count": 28,
   "metadata": {},
   "outputs": [
    {
     "name": "stdout",
     "output_type": "stream",
     "text": [
      "Found 20 images belonging to 2 classes.\n",
      "Found 1000 images belonging to 2 classes.\n",
      "Epoch 1/30\n",
      "100/100 [==============================] - 31s 315ms/step - loss: 0.3154 - acc: 0.9045 - val_loss: 1.6874 - val_acc: 0.5387\n",
      "Epoch 2/30\n",
      "100/100 [==============================] - 31s 313ms/step - loss: 0.0235 - acc: 0.9940 - val_loss: 1.1506 - val_acc: 0.5354\n",
      "Epoch 3/30\n",
      "100/100 [==============================] - 31s 314ms/step - loss: 7.2017e-04 - acc: 1.0000 - val_loss: 2.2106 - val_acc: 0.5438\n",
      "Epoch 4/30\n",
      "100/100 [==============================] - 31s 314ms/step - loss: 0.0045 - acc: 0.9985 - val_loss: 1.5170 - val_acc: 0.5580\n",
      "Epoch 5/30\n",
      "100/100 [==============================] - 31s 311ms/step - loss: 9.4774e-04 - acc: 0.9995 - val_loss: 3.9035 - val_acc: 0.5343\n",
      "Epoch 6/30\n",
      "100/100 [==============================] - 31s 310ms/step - loss: 8.5821e-06 - acc: 1.0000 - val_loss: 5.0428 - val_acc: 0.5457\n",
      "Epoch 7/30\n",
      "100/100 [==============================] - 31s 309ms/step - loss: 0.0063 - acc: 0.9980 - val_loss: 2.7308 - val_acc: 0.5387\n",
      "Epoch 8/30\n",
      "100/100 [==============================] - 31s 314ms/step - loss: 1.5692e-06 - acc: 1.0000 - val_loss: 5.4170 - val_acc: 0.5406\n",
      "Epoch 9/30\n",
      "100/100 [==============================] - 32s 320ms/step - loss: 1.9121e-05 - acc: 1.0000 - val_loss: 4.4443 - val_acc: 0.5432\n",
      "Epoch 10/30\n",
      "100/100 [==============================] - 33s 333ms/step - loss: 2.1084e-07 - acc: 1.0000 - val_loss: 4.7728 - val_acc: 0.5470\n",
      "Epoch 11/30\n",
      "100/100 [==============================] - 33s 330ms/step - loss: 1.3342e-07 - acc: 1.0000 - val_loss: 2.5920 - val_acc: 0.5451\n",
      "Epoch 12/30\n",
      "100/100 [==============================] - 33s 329ms/step - loss: 4.6599e-08 - acc: 1.0000 - val_loss: 7.9727 - val_acc: 0.5495\n",
      "Epoch 13/30\n",
      "100/100 [==============================] - 33s 331ms/step - loss: 9.9844e-08 - acc: 1.0000 - val_loss: 7.1334 - val_acc: 0.5399\n",
      "Epoch 14/30\n",
      "100/100 [==============================] - 33s 331ms/step - loss: 5.2579e-07 - acc: 1.0000 - val_loss: 3.2052 - val_acc: 0.5508\n",
      "Epoch 15/30\n",
      "100/100 [==============================] - 33s 329ms/step - loss: 1.2104e-08 - acc: 1.0000 - val_loss: 7.3997 - val_acc: 0.5425\n",
      "Epoch 16/30\n",
      "100/100 [==============================] - 33s 326ms/step - loss: 1.6195e-08 - acc: 1.0000 - val_loss: 8.4003 - val_acc: 0.5445\n",
      "Epoch 17/30\n",
      "100/100 [==============================] - 33s 333ms/step - loss: 6.8335e-09 - acc: 1.0000 - val_loss: 5.3182 - val_acc: 0.5457\n",
      "Epoch 18/30\n",
      "100/100 [==============================] - 34s 336ms/step - loss: 2.4696e-09 - acc: 1.0000 - val_loss: 7.4017 - val_acc: 0.5412\n",
      "Epoch 19/30\n",
      "100/100 [==============================] - 33s 334ms/step - loss: 1.1606e-09 - acc: 1.0000 - val_loss: 7.1030 - val_acc: 0.5476\n",
      "Epoch 20/30\n",
      "100/100 [==============================] - 33s 334ms/step - loss: 8.2734e-10 - acc: 1.0000 - val_loss: 9.5108 - val_acc: 0.5496\n",
      "Epoch 21/30\n",
      "100/100 [==============================] - 34s 338ms/step - loss: 5.6318e-10 - acc: 1.0000 - val_loss: 5.6892 - val_acc: 0.5451\n",
      "Epoch 22/30\n",
      "100/100 [==============================] - 33s 335ms/step - loss: 6.3458e-10 - acc: 1.0000 - val_loss: 6.6623 - val_acc: 0.5374\n",
      "Epoch 23/30\n",
      "100/100 [==============================] - 33s 335ms/step - loss: 8.9687e-10 - acc: 1.0000 - val_loss: 6.0906 - val_acc: 0.5451\n",
      "Epoch 24/30\n",
      "100/100 [==============================] - 34s 343ms/step - loss: 7.1136e-10 - acc: 1.0000 - val_loss: 4.9358 - val_acc: 0.5367\n",
      "Epoch 25/30\n",
      "100/100 [==============================] - 34s 341ms/step - loss: 4.6543e-10 - acc: 1.0000 - val_loss: 4.5576 - val_acc: 0.5567\n",
      "Epoch 26/30\n",
      "100/100 [==============================] - 35s 348ms/step - loss: 5.3553e-10 - acc: 1.0000 - val_loss: 6.0561 - val_acc: 0.5419\n",
      "Epoch 27/30\n",
      "100/100 [==============================] - 36s 356ms/step - loss: 3.8948e-10 - acc: 1.0000 - val_loss: 7.4268 - val_acc: 0.5445\n",
      "Epoch 28/30\n",
      "100/100 [==============================] - 35s 353ms/step - loss: 4.7101e-10 - acc: 1.0000 - val_loss: 6.5223 - val_acc: 0.5609\n",
      "Epoch 29/30\n",
      "100/100 [==============================] - 35s 353ms/step - loss: 6.4919e-10 - acc: 1.0000 - val_loss: 6.8430 - val_acc: 0.5425\n",
      "Epoch 30/30\n",
      "100/100 [==============================] - 35s 354ms/step - loss: 4.4209e-10 - acc: 1.0000 - val_loss: 6.7370 - val_acc: 0.5457\n"
     ]
    }
   ],
   "source": [
    "train_datagen = ImageDataGenerator(rescale=1./255)\n",
    "test_datagen = ImageDataGenerator(rescale=1./255)\n",
    "\n",
    "train_generator = train_datagen.flow_from_directory(\n",
    "        # This is the target directory\n",
    "        train_dir,\n",
    "        # All images will be resized to 150x150\n",
    "        target_size=(150, 150),\n",
    "        batch_size=20,\n",
    "        # Since we use binary_crossentropy loss, we need binary labels\n",
    "        class_mode='binary')\n",
    "\n",
    "validation_generator = test_datagen.flow_from_directory(\n",
    "        validation_dir,\n",
    "        target_size=(150, 150),\n",
    "        batch_size=32,\n",
    "        class_mode='binary')\n",
    "\n",
    "history = model.fit_generator(\n",
    "      train_generator,\n",
    "      steps_per_epoch=100,\n",
    "      epochs=30,\n",
    "      validation_data=validation_generator,\n",
    "      validation_steps=50)"
   ]
  },
  {
   "cell_type": "code",
   "execution_count": 29,
   "metadata": {},
   "outputs": [],
   "source": [
    "model.save('cats_and_dogs_small_3.h5')"
   ]
  },
  {
   "cell_type": "markdown",
   "metadata": {},
   "source": [
    "Test #3 Below are the results of the test with only 20 training images"
   ]
  },
  {
   "cell_type": "code",
   "execution_count": 30,
   "metadata": {},
   "outputs": [
    {
     "data": {
      "image/png": "[encoded data removed]",
      "text/plain": [
       "<Figure size 432x288 with 1 Axes>"
      ]
     },
     "metadata": {
      "needs_background": "light"
     },
     "output_type": "display_data"
    },
    {
     "data": {
      "image/png": "[encoded data removed]",
      "text/plain": [
       "<Figure size 432x288 with 1 Axes>"
      ]
     },
     "metadata": {
      "needs_background": "light"
     },
     "output_type": "display_data"
    }
   ],
   "source": [
    "acc = history.history['acc']\n",
    "val_acc = history.history['val_acc']\n",
    "loss = history.history['loss']\n",
    "val_loss = history.history['val_loss']\n",
    "\n",
    "epochs = range(len(acc))\n",
    "\n",
    "plt.plot(epochs, acc, 'bo', label='Training acc')\n",
    "plt.plot(epochs, val_acc, 'b', label='Validation acc')\n",
    "plt.title('Training and validation accuracy')\n",
    "plt.legend()\n",
    "\n",
    "plt.figure()\n",
    "\n",
    "plt.plot(epochs, loss, 'bo', label='Training loss')\n",
    "plt.plot(epochs, val_loss, 'b', label='Validation loss')\n",
    "plt.title('Training and validation loss')\n",
    "plt.legend()\n",
    "\n",
    "plt.show()"
   ]
  },
  {
   "cell_type": "code",
   "execution_count": 2,
   "metadata": {},
   "outputs": [
    {
     "name": "stderr",
     "output_type": "stream",
     "text": [
      "Using TensorFlow backend.\n"
     ]
    }
   ],
   "source": [
    "from keras import layers\n",
    "from keras import models\n",
    "\n",
    "model = models.Sequential()\n",
    "model.add(layers.Conv2D(32, (3, 3), activation='relu',\n",
    "                        input_shape=(150, 150, 3)))\n",
    "model.add(layers.MaxPooling2D((2, 2)))\n",
    "model.add(layers.Conv2D(64, (3, 3), activation='relu'))\n",
    "model.add(layers.MaxPooling2D((2, 2)))\n",
    "model.add(layers.Conv2D(128, (3, 3), activation='relu'))\n",
    "model.add(layers.MaxPooling2D((2, 2)))\n",
    "model.add(layers.Conv2D(128, (3, 3), activation='relu'))\n",
    "model.add(layers.MaxPooling2D((2, 2)))\n",
    "model.add(layers.Flatten())\n",
    "model.add(layers.Dense(512, activation='relu'))\n",
    "model.add(layers.Dense(1, activation='sigmoid'))"
   ]
  },
  {
   "cell_type": "code",
   "execution_count": 3,
   "metadata": {},
   "outputs": [],
   "source": [
    "from keras import optimizers\n",
    "\n",
    "model.compile(loss='binary_crossentropy',\n",
    "              optimizer=optimizers.RMSprop(lr=1e-4),\n",
    "              metrics=['acc'])"
   ]
  },
  {
   "cell_type": "markdown",
   "metadata": {},
   "source": [
    "Below is the code for the extended example. This example uses additional image transformations which are the modern approach to data augmentation in image classification problems"
   ]
  },
  {
   "cell_type": "code",
   "execution_count": 5,
   "metadata": {},
   "outputs": [
    {
     "name": "stdout",
     "output_type": "stream",
     "text": [
      "Found 4000 images belonging to 2 classes.\n",
      "Found 1000 images belonging to 2 classes.\n"
     ]
    }
   ],
   "source": [
    "from keras.preprocessing.image import ImageDataGenerator\n",
    "\n",
    "# All images will be rescaled by 1./255\n",
    "train_datagen = ImageDataGenerator(rescale=1./255)\n",
    "test_datagen = ImageDataGenerator(rescale=1./255)\n",
    "\n",
    "train_dir = '/Users/EricC/Desktop/Data Analytics/Data Augmentation - Comps Exam Shanker/augmentor_train/train'\n",
    "validation_dir = '/Users/EricC/Desktop/Data Analytics/Data Augmentation - Comps Exam Shanker/cats_and_dogs_small/validation'\n",
    "\n",
    "train_generator = train_datagen.flow_from_directory(\n",
    "        # This is the target directory\n",
    "        train_dir,\n",
    "        # All images will be resized to 150x150\n",
    "        target_size=(150, 150),\n",
    "        batch_size=20,\n",
    "        # Since we use binary_crossentropy loss, we need binary labels\n",
    "        class_mode='binary')\n",
    "\n",
    "validation_generator = test_datagen.flow_from_directory(\n",
    "        validation_dir,\n",
    "        target_size=(150, 150),\n",
    "        batch_size=20,\n",
    "        class_mode='binary')"
   ]
  },
  {
   "cell_type": "code",
   "execution_count": 6,
   "metadata": {},
   "outputs": [
    {
     "name": "stdout",
     "output_type": "stream",
     "text": [
      "Epoch 1/30\n",
      "100/100 [==============================] - 30s 305ms/step - loss: 0.5450 - acc: 0.7190 - val_loss: 0.9632 - val_acc: 0.5130\n",
      "Epoch 2/30\n",
      "100/100 [==============================] - 30s 301ms/step - loss: 0.2521 - acc: 0.9160 - val_loss: 1.2503 - val_acc: 0.5250\n",
      "Epoch 3/30\n",
      "100/100 [==============================] - 30s 301ms/step - loss: 0.1145 - acc: 0.9605 - val_loss: 1.6978 - val_acc: 0.5330\n",
      "Epoch 4/30\n",
      "100/100 [==============================] - 30s 302ms/step - loss: 0.0899 - acc: 0.9695 - val_loss: 1.7271 - val_acc: 0.5640\n",
      "Epoch 5/30\n",
      "100/100 [==============================] - 30s 303ms/step - loss: 0.0449 - acc: 0.9860 - val_loss: 1.9333 - val_acc: 0.5700\n",
      "Epoch 6/30\n",
      "100/100 [==============================] - 30s 302ms/step - loss: 0.0365 - acc: 0.9890 - val_loss: 1.8383 - val_acc: 0.5660\n",
      "Epoch 7/30\n",
      "100/100 [==============================] - 30s 301ms/step - loss: 0.0292 - acc: 0.9875 - val_loss: 1.2197 - val_acc: 0.5620\n",
      "Epoch 8/30\n",
      "100/100 [==============================] - 30s 302ms/step - loss: 0.0193 - acc: 0.9920 - val_loss: 1.0934 - val_acc: 0.5690\n",
      "Epoch 9/30\n",
      "100/100 [==============================] - 30s 304ms/step - loss: 0.0121 - acc: 0.9970 - val_loss: 0.5886 - val_acc: 0.5550\n",
      "Epoch 10/30\n",
      "100/100 [==============================] - 30s 303ms/step - loss: 0.0105 - acc: 0.9975 - val_loss: 1.8008 - val_acc: 0.5700\n",
      "Epoch 11/30\n",
      "100/100 [==============================] - 30s 302ms/step - loss: 0.0048 - acc: 0.9995 - val_loss: 2.3210 - val_acc: 0.5770\n",
      "Epoch 12/30\n",
      "100/100 [==============================] - 30s 301ms/step - loss: 0.0102 - acc: 0.9955 - val_loss: 2.9356 - val_acc: 0.5850\n",
      "Epoch 13/30\n",
      "100/100 [==============================] - 30s 300ms/step - loss: 0.0093 - acc: 0.9985 - val_loss: 1.9653 - val_acc: 0.5770\n",
      "Epoch 14/30\n",
      "100/100 [==============================] - 30s 299ms/step - loss: 0.0052 - acc: 0.9990 - val_loss: 3.4494 - val_acc: 0.5820\n",
      "Epoch 15/30\n",
      "100/100 [==============================] - 30s 299ms/step - loss: 0.0014 - acc: 0.9995 - val_loss: 3.4847 - val_acc: 0.5630\n",
      "Epoch 16/30\n",
      "100/100 [==============================] - 30s 300ms/step - loss: 0.0046 - acc: 0.9985 - val_loss: 4.4532 - val_acc: 0.5820\n",
      "Epoch 17/30\n",
      "100/100 [==============================] - 30s 300ms/step - loss: 0.0021 - acc: 0.9990 - val_loss: 3.0158 - val_acc: 0.5750\n",
      "Epoch 18/30\n",
      "100/100 [==============================] - 30s 300ms/step - loss: 0.0024 - acc: 0.9985 - val_loss: 2.6810 - val_acc: 0.5850\n",
      "Epoch 19/30\n",
      "100/100 [==============================] - 30s 298ms/step - loss: 4.4300e-04 - acc: 1.0000 - val_loss: 2.7951 - val_acc: 0.5810\n",
      "Epoch 20/30\n",
      "100/100 [==============================] - 30s 300ms/step - loss: 0.0062 - acc: 0.9980 - val_loss: 2.2831 - val_acc: 0.5860\n",
      "Epoch 21/30\n",
      "100/100 [==============================] - 30s 299ms/step - loss: 0.0022 - acc: 0.9990 - val_loss: 0.9473 - val_acc: 0.5840\n",
      "Epoch 22/30\n",
      "100/100 [==============================] - 30s 301ms/step - loss: 0.0047 - acc: 0.9985 - val_loss: 4.3276 - val_acc: 0.5900\n",
      "Epoch 23/30\n",
      "100/100 [==============================] - 30s 302ms/step - loss: 9.6077e-04 - acc: 0.9995 - val_loss: 4.6675 - val_acc: 0.5750\n",
      "Epoch 24/30\n",
      "100/100 [==============================] - 30s 301ms/step - loss: 1.4140e-04 - acc: 1.0000 - val_loss: 3.8565 - val_acc: 0.5900\n",
      "Epoch 25/30\n",
      "100/100 [==============================] - 30s 301ms/step - loss: 5.2634e-04 - acc: 1.0000 - val_loss: 3.8096 - val_acc: 0.5650\n",
      "Epoch 26/30\n",
      "100/100 [==============================] - 30s 300ms/step - loss: 2.3428e-05 - acc: 1.0000 - val_loss: 4.6643 - val_acc: 0.5880\n",
      "Epoch 27/30\n",
      "100/100 [==============================] - 30s 302ms/step - loss: 0.0026 - acc: 0.9995 - val_loss: 3.1278 - val_acc: 0.5820\n",
      "Epoch 28/30\n",
      "100/100 [==============================] - 30s 302ms/step - loss: 1.0868e-04 - acc: 1.0000 - val_loss: 4.5409 - val_acc: 0.5660\n",
      "Epoch 29/30\n",
      "100/100 [==============================] - 30s 304ms/step - loss: 0.0016 - acc: 0.9990 - val_loss: 3.3821 - val_acc: 0.5880\n",
      "Epoch 30/30\n",
      "100/100 [==============================] - 31s 305ms/step - loss: 3.4829e-04 - acc: 1.0000 - val_loss: 4.6464 - val_acc: 0.5650\n"
     ]
    }
   ],
   "source": [
    "history = model.fit_generator(\n",
    "      train_generator,\n",
    "      steps_per_epoch=100,\n",
    "      epochs=30,\n",
    "      validation_data=validation_generator,\n",
    "      validation_steps=50)"
   ]
  },
  {
   "cell_type": "code",
   "execution_count": 7,
   "metadata": {},
   "outputs": [],
   "source": [
    "model.save('cats_and_dogs_small_4.h5')"
   ]
  },
  {
   "cell_type": "code",
   "execution_count": 9,
   "metadata": {},
   "outputs": [
    {
     "data": {
      "image/png": "[encoded data removed]",
      "text/plain": [
       "<Figure size 432x288 with 1 Axes>"
      ]
     },
     "metadata": {
      "needs_background": "light"
     },
     "output_type": "display_data"
    },
    {
     "data": {
      "image/png": "[encoded data removed]",
      "text/plain": [
       "<Figure size 432x288 with 1 Axes>"
      ]
     },
     "metadata": {
      "needs_background": "light"
     },
     "output_type": "display_data"
    }
   ],
   "source": [
    "import matplotlib.pyplot as plt\n",
    "\n",
    "acc = history.history['acc']\n",
    "val_acc = history.history['val_acc']\n",
    "loss = history.history['loss']\n",
    "val_loss = history.history['val_loss']\n",
    "\n",
    "epochs = range(len(acc))\n",
    "\n",
    "plt.plot(epochs, acc, 'bo', label='Training acc')\n",
    "plt.plot(epochs, val_acc, 'b', label='Validation acc')\n",
    "plt.title('Training and validation accuracy')\n",
    "plt.legend()\n",
    "\n",
    "plt.figure()\n",
    "\n",
    "plt.plot(epochs, loss, 'bo', label='Training loss')\n",
    "plt.plot(epochs, val_loss, 'b', label='Validation loss')\n",
    "plt.title('Training and validation loss')\n",
    "plt.legend()\n",
    "\n",
    "plt.show()"
   ]
  },
  {
   "cell_type": "code",
   "execution_count": null,
   "metadata": {},
   "outputs": [],
   "source": []
  }
 ],
 "metadata": {
  "kernelspec": {
   "display_name": "Python 3",
   "language": "python",
   "name": "python3"
  },
  "language_info": {
   "codemirror_mode": {
    "name": "ipython",
    "version": 3
   },
   "file_extension": ".py",
   "mimetype": "text/x-python",
   "name": "python",
   "nbconvert_exporter": "python",
   "pygments_lexer": "ipython3",
   "version": "3.6.10"
  }
 },
 "nbformat": 4,
 "nbformat_minor": 4
}
