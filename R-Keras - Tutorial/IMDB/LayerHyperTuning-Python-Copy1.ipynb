{
 "cells": [
  {
   "cell_type": "code",
   "execution_count": 1,
   "metadata": {},
   "outputs": [
    {
     "name": "stderr",
     "output_type": "stream",
     "text": [
      "Using TensorFlow backend.\n"
     ]
    }
   ],
   "source": [
    "from keras.datasets import imdb\n",
    "import numpy as np\n",
    "from keras import models\n",
    "from keras import layers\n",
    "from keras import optimizers\n",
    "from keras import losses\n",
    "from keras import metrics\n",
    "import matplotlib.pyplot as plt"
   ]
  },
  {
   "cell_type": "code",
   "execution_count": 2,
   "metadata": {},
   "outputs": [],
   "source": [
    "(train_data, train_labels), (test_data, test_labels) = imdb.load_data(num_words=10000)"
   ]
  },
  {
   "cell_type": "code",
   "execution_count": 3,
   "metadata": {},
   "outputs": [],
   "source": [
    "def vectorize_sequences(sequences, dimension=10000):\n",
    "    # Create an all-zero matrix of shape (len(sequences), dimension)\n",
    "    results = np.zeros((len(sequences), dimension))\n",
    "    for i, sequence in enumerate(sequences):\n",
    "        results[i, sequence] = 1.  # set specific indices of results[i] to 1s\n",
    "    return results"
   ]
  },
  {
   "cell_type": "code",
   "execution_count": 4,
   "metadata": {},
   "outputs": [],
   "source": [
    "# Our vectorized training data\n",
    "x_train = vectorize_sequences(train_data)\n",
    "# Our vectorized test data\n",
    "x_test = vectorize_sequences(test_data)"
   ]
  },
  {
   "cell_type": "code",
   "execution_count": 5,
   "metadata": {},
   "outputs": [],
   "source": [
    "y_train = np.asarray(train_labels).astype('float32')\n",
    "y_test = np.asarray(test_labels).astype('float32')"
   ]
  },
  {
   "cell_type": "code",
   "execution_count": 22,
   "metadata": {},
   "outputs": [],
   "source": [
    "model = models.Sequential()\n",
    "model.add(layers.Dense(16, activation='relu', input_shape=(10000,)))\n",
    "model.add(layers.Dense(16, activation='relu'))\n",
    "model.add(layers.Dense(1, activation='sigmoid'))"
   ]
  },
  {
   "cell_type": "code",
   "execution_count": 23,
   "metadata": {},
   "outputs": [],
   "source": [
    "model.compile(optimizer='rmsprop',\n",
    "              loss='binary_crossentropy',\n",
    "              metrics=['accuracy'])"
   ]
  },
  {
   "cell_type": "code",
   "execution_count": 8,
   "metadata": {},
   "outputs": [],
   "source": [
    "x_val = x_train[:10000]\n",
    "partial_x_train = x_train[10000:]\n",
    "\n",
    "y_val = y_train[:10000]\n",
    "partial_y_train = y_train[10000:]"
   ]
  },
  {
   "cell_type": "code",
   "execution_count": 9,
   "metadata": {},
   "outputs": [
    {
     "name": "stdout",
     "output_type": "stream",
     "text": [
      "WARNING:tensorflow:From C:\\Users\\EricC\\Anaconda3\\envs\\R-Keras\\lib\\site-packages\\keras\\backend\\tensorflow_backend.py:986: The name tf.assign_add is deprecated. Please use tf.compat.v1.assign_add instead.\n",
      "\n",
      "WARNING:tensorflow:From C:\\Users\\EricC\\Anaconda3\\envs\\R-Keras\\lib\\site-packages\\keras\\backend\\tensorflow_backend.py:973: The name tf.assign is deprecated. Please use tf.compat.v1.assign instead.\n",
      "\n",
      "WARNING:tensorflow:From C:\\Users\\EricC\\Anaconda3\\envs\\R-Keras\\lib\\site-packages\\keras\\backend\\tensorflow_backend.py:2741: The name tf.Session is deprecated. Please use tf.compat.v1.Session instead.\n",
      "\n",
      "Train on 15000 samples, validate on 10000 samples\n",
      "Epoch 1/20\n",
      "WARNING:tensorflow:From C:\\Users\\EricC\\Anaconda3\\envs\\R-Keras\\lib\\site-packages\\keras\\backend\\tensorflow_backend.py:174: The name tf.get_default_session is deprecated. Please use tf.compat.v1.get_default_session instead.\n",
      "\n",
      "WARNING:tensorflow:From C:\\Users\\EricC\\Anaconda3\\envs\\R-Keras\\lib\\site-packages\\keras\\backend\\tensorflow_backend.py:181: The name tf.ConfigProto is deprecated. Please use tf.compat.v1.ConfigProto instead.\n",
      "\n",
      "WARNING:tensorflow:From C:\\Users\\EricC\\Anaconda3\\envs\\R-Keras\\lib\\site-packages\\keras\\backend\\tensorflow_backend.py:190: The name tf.global_variables is deprecated. Please use tf.compat.v1.global_variables instead.\n",
      "\n",
      "WARNING:tensorflow:From C:\\Users\\EricC\\Anaconda3\\envs\\R-Keras\\lib\\site-packages\\keras\\backend\\tensorflow_backend.py:199: The name tf.is_variable_initialized is deprecated. Please use tf.compat.v1.is_variable_initialized instead.\n",
      "\n",
      "WARNING:tensorflow:From C:\\Users\\EricC\\Anaconda3\\envs\\R-Keras\\lib\\site-packages\\keras\\backend\\tensorflow_backend.py:206: The name tf.variables_initializer is deprecated. Please use tf.compat.v1.variables_initializer instead.\n",
      "\n",
      "15000/15000 [==============================] - 3s 199us/step - loss: 0.5098 - acc: 0.7804 - val_loss: 0.3825 - val_acc: 0.8667\n",
      "Epoch 2/20\n",
      "15000/15000 [==============================] - 2s 140us/step - loss: 0.3012 - acc: 0.9039 - val_loss: 0.2994 - val_acc: 0.8908\n",
      "Epoch 3/20\n",
      "15000/15000 [==============================] - 2s 139us/step - loss: 0.2161 - acc: 0.9287 - val_loss: 0.3079 - val_acc: 0.8725\n",
      "Epoch 4/20\n",
      "15000/15000 [==============================] - 2s 141us/step - loss: 0.1728 - acc: 0.9436 - val_loss: 0.2836 - val_acc: 0.8846\n",
      "Epoch 5/20\n",
      "15000/15000 [==============================] - 2s 144us/step - loss: 0.1395 - acc: 0.9552 - val_loss: 0.2854 - val_acc: 0.8864\n",
      "Epoch 6/20\n",
      "15000/15000 [==============================] - 2s 139us/step - loss: 0.1119 - acc: 0.9658 - val_loss: 0.3103 - val_acc: 0.8800\n",
      "Epoch 7/20\n",
      "15000/15000 [==============================] - 2s 142us/step - loss: 0.0943 - acc: 0.9721 - val_loss: 0.3168 - val_acc: 0.8844\n",
      "Epoch 8/20\n",
      "15000/15000 [==============================] - 2s 151us/step - loss: 0.0774 - acc: 0.9773 - val_loss: 0.3902 - val_acc: 0.8648\n",
      "Epoch 9/20\n",
      "15000/15000 [==============================] - 2s 154us/step - loss: 0.0627 - acc: 0.9829 - val_loss: 0.3713 - val_acc: 0.8765\n",
      "Epoch 10/20\n",
      "15000/15000 [==============================] - 2s 148us/step - loss: 0.0529 - acc: 0.9861 - val_loss: 0.3929 - val_acc: 0.8786\n",
      "Epoch 11/20\n",
      "15000/15000 [==============================] - 2s 141us/step - loss: 0.0369 - acc: 0.9923 - val_loss: 0.4306 - val_acc: 0.8762\n",
      "Epoch 12/20\n",
      "15000/15000 [==============================] - 2s 152us/step - loss: 0.0349 - acc: 0.9914 - val_loss: 0.4918 - val_acc: 0.8631\n",
      "Epoch 13/20\n",
      "15000/15000 [==============================] - 2s 145us/step - loss: 0.0274 - acc: 0.9939 - val_loss: 0.4843 - val_acc: 0.8739\n",
      "Epoch 14/20\n",
      "15000/15000 [==============================] - 2s 152us/step - loss: 0.0215 - acc: 0.9953 - val_loss: 0.5141 - val_acc: 0.8720\n",
      "Epoch 15/20\n",
      "15000/15000 [==============================] - 2s 154us/step - loss: 0.0167 - acc: 0.9973 - val_loss: 0.5415 - val_acc: 0.8715\n",
      "Epoch 16/20\n",
      "15000/15000 [==============================] - 2s 153us/step - loss: 0.0135 - acc: 0.9982 - val_loss: 0.5755 - val_acc: 0.8690\n",
      "Epoch 17/20\n",
      "15000/15000 [==============================] - 2s 152us/step - loss: 0.0130 - acc: 0.9976 - val_loss: 0.6045 - val_acc: 0.8669\n",
      "Epoch 18/20\n",
      "15000/15000 [==============================] - 2s 163us/step - loss: 0.0063 - acc: 0.9997 - val_loss: 0.6565 - val_acc: 0.8662\n",
      "Epoch 19/20\n",
      "15000/15000 [==============================] - 2s 165us/step - loss: 0.0108 - acc: 0.9980 - val_loss: 0.6651 - val_acc: 0.8662\n",
      "Epoch 20/20\n",
      "15000/15000 [==============================] - 2s 156us/step - loss: 0.0035 - acc: 0.9999 - val_loss: 0.6942 - val_acc: 0.8675\n"
     ]
    }
   ],
   "source": [
    "history = model.fit(partial_x_train,\n",
    "                    partial_y_train,\n",
    "                    epochs=20,\n",
    "                    batch_size=512,\n",
    "                    validation_data=(x_val, y_val))"
   ]
  },
  {
   "cell_type": "code",
   "execution_count": 11,
   "metadata": {},
   "outputs": [
    {
     "data": {
      "text/plain": [
       "dict_keys(['val_loss', 'val_acc', 'loss', 'acc'])"
      ]
     },
     "execution_count": 11,
     "metadata": {},
     "output_type": "execute_result"
    }
   ],
   "source": [
    "history_dict = history.history\n",
    "history_dict.keys()"
   ]
  },
  {
   "cell_type": "code",
   "execution_count": 12,
   "metadata": {},
   "outputs": [],
   "source": [
    "acc = history.history['acc']\n",
    "val_acc = history.history['val_acc']\n",
    "loss = history.history['loss']\n",
    "val_loss = history.history['val_loss']"
   ]
  },
  {
   "cell_type": "code",
   "execution_count": 13,
   "metadata": {},
   "outputs": [
    {
     "data": {
      "text/plain": [
       "<matplotlib.legend.Legend at 0x218128ec9b0>"
      ]
     },
     "execution_count": 13,
     "metadata": {},
     "output_type": "execute_result"
    },
    {
     "data": {
      "image/png": "[encoded data removed]",
      "text/plain": [
       "<Figure size 432x288 with 1 Axes>"
      ]
     },
     "metadata": {
      "needs_background": "light"
     },
     "output_type": "display_data"
    }
   ],
   "source": [
    "epochs = range(1, len(acc) + 1)\n",
    "\n",
    "# \"bo\" is for \"blue dot\"\n",
    "plt.plot(epochs, loss, 'bo', label='Training loss')\n",
    "# b is for \"solid blue line\"\n",
    "plt.plot(epochs, val_loss, 'b', label='Validation loss')\n",
    "plt.title('Training and validation loss')\n",
    "plt.xlabel('Epochs')\n",
    "plt.ylabel('Loss')\n",
    "plt.legend()"
   ]
  },
  {
   "cell_type": "code",
   "execution_count": 14,
   "metadata": {},
   "outputs": [
    {
     "data": {
      "image/png": "[encoded data removed]",
      "text/plain": [
       "<Figure size 432x288 with 1 Axes>"
      ]
     },
     "metadata": {
      "needs_background": "light"
     },
     "output_type": "display_data"
    }
   ],
   "source": [
    "plt.clf()   # clear figure\n",
    "acc_values = history_dict['acc']\n",
    "val_acc_values = history_dict['val_acc']\n",
    "\n",
    "plt.plot(epochs, acc, 'bo', label='Training acc')\n",
    "plt.plot(epochs, val_acc, 'b', label='Validation acc')\n",
    "plt.title('Training and validation accuracy')\n",
    "plt.xlabel('Epochs')\n",
    "plt.ylabel('Loss')\n",
    "plt.legend()\n",
    "\n",
    "plt.show()"
   ]
  },
  {
   "cell_type": "code",
   "execution_count": 28,
   "metadata": {},
   "outputs": [
    {
     "name": "stdout",
     "output_type": "stream",
     "text": [
      "Train on 15000 samples, validate on 10000 samples\n",
      "Epoch 1/20\n",
      "15000/15000 [==============================] - 3s 180us/step - loss: 0.4968 - acc: 0.8033 - val_loss: 0.4091 - val_acc: 0.8434\n",
      "Epoch 2/20\n",
      "15000/15000 [==============================] - 2s 137us/step - loss: 0.3209 - acc: 0.9025 - val_loss: 0.3206 - val_acc: 0.8866\n",
      "Epoch 3/20\n",
      "15000/15000 [==============================] - 2s 139us/step - loss: 0.2478 - acc: 0.9234 - val_loss: 0.2911 - val_acc: 0.8893\n",
      "Epoch 4/20\n",
      "15000/15000 [==============================] - 2s 142us/step - loss: 0.2042 - acc: 0.9368 - val_loss: 0.2949 - val_acc: 0.8815\n",
      "Epoch 5/20\n",
      "15000/15000 [==============================] - 3s 182us/step - loss: 0.1738 - acc: 0.9485 - val_loss: 0.2804 - val_acc: 0.8884\n",
      "Epoch 6/20\n",
      "15000/15000 [==============================] - 3s 184us/step - loss: 0.1487 - acc: 0.9565 - val_loss: 0.2841 - val_acc: 0.8845\n",
      "Epoch 7/20\n",
      "15000/15000 [==============================] - 3s 199us/step - loss: 0.1326 - acc: 0.9612 - val_loss: 0.2796 - val_acc: 0.8874\n",
      "Epoch 8/20\n",
      "15000/15000 [==============================] - 3s 183us/step - loss: 0.1162 - acc: 0.9678 - val_loss: 0.2856 - val_acc: 0.8861\n",
      "Epoch 9/20\n",
      "15000/15000 [==============================] - 3s 186us/step - loss: 0.1017 - acc: 0.9730 - val_loss: 0.2970 - val_acc: 0.8838\n",
      "Epoch 10/20\n",
      "15000/15000 [==============================] - 3s 180us/step - loss: 0.0906 - acc: 0.9765 - val_loss: 0.3077 - val_acc: 0.8816\n",
      "Epoch 11/20\n",
      "15000/15000 [==============================] - 3s 179us/step - loss: 0.0809 - acc: 0.9799 - val_loss: 0.3172 - val_acc: 0.8825\n",
      "Epoch 12/20\n",
      "15000/15000 [==============================] - 3s 180us/step - loss: 0.0709 - acc: 0.9835 - val_loss: 0.3310 - val_acc: 0.8825\n",
      "Epoch 13/20\n",
      "15000/15000 [==============================] - 3s 212us/step - loss: 0.0638 - acc: 0.9857 - val_loss: 0.3438 - val_acc: 0.8792\n",
      "Epoch 14/20\n",
      "15000/15000 [==============================] - 3s 200us/step - loss: 0.0563 - acc: 0.9883 - val_loss: 0.3606 - val_acc: 0.8802\n",
      "Epoch 15/20\n",
      "15000/15000 [==============================] - 3s 183us/step - loss: 0.0496 - acc: 0.9906 - val_loss: 0.3770 - val_acc: 0.8784\n",
      "Epoch 16/20\n",
      "15000/15000 [==============================] - 3s 177us/step - loss: 0.0434 - acc: 0.9926 - val_loss: 0.4014 - val_acc: 0.8692\n",
      "Epoch 17/20\n",
      "15000/15000 [==============================] - 3s 169us/step - loss: 0.0387 - acc: 0.9935 - val_loss: 0.4097 - val_acc: 0.8760\n",
      "Epoch 18/20\n",
      "15000/15000 [==============================] - 3s 181us/step - loss: 0.0338 - acc: 0.9948 - val_loss: 0.4253 - val_acc: 0.8752\n",
      "Epoch 19/20\n",
      "15000/15000 [==============================] - 3s 184us/step - loss: 0.0302 - acc: 0.9955 - val_loss: 0.4478 - val_acc: 0.8694\n",
      "Epoch 20/20\n",
      "15000/15000 [==============================] - 3s 170us/step - loss: 0.0256 - acc: 0.9967 - val_loss: 0.4617 - val_acc: 0.8703\n"
     ]
    }
   ],
   "source": [
    "model1 = models.Sequential()\n",
    "model1.add(layers.Dense(16, activation='relu', input_shape=(10000,)))\n",
    "model1.add(layers.Dense(1, activation='sigmoid'))\n",
    "\n",
    "model1.compile(optimizer='rmsprop',\n",
    "              loss='binary_crossentropy',\n",
    "              metrics=['accuracy'])\n",
    "\n",
    "x_val = x_train[:10000]\n",
    "partial_x_train = x_train[10000:]\n",
    "\n",
    "y_val = y_train[:10000]\n",
    "partial_y_train = y_train[10000:]\n",
    "\n",
    "history1 = model1.fit(partial_x_train,\n",
    "                    partial_y_train,\n",
    "                    epochs=20,\n",
    "                    batch_size=512,\n",
    "                    validation_data=(x_val, y_val))"
   ]
  },
  {
   "cell_type": "code",
   "execution_count": 27,
   "metadata": {},
   "outputs": [
    {
     "name": "stdout",
     "output_type": "stream",
     "text": [
      "Train on 15000 samples, validate on 10000 samples\n",
      "Epoch 1/20\n",
      "15000/15000 [==============================] - 3s 186us/step - loss: 0.5043 - acc: 0.7809 - val_loss: 0.3727 - val_acc: 0.8752\n",
      "Epoch 2/20\n",
      "15000/15000 [==============================] - 2s 141us/step - loss: 0.2940 - acc: 0.9048 - val_loss: 0.3105 - val_acc: 0.8792\n",
      "Epoch 3/20\n",
      "15000/15000 [==============================] - 2s 141us/step - loss: 0.2176 - acc: 0.9271 - val_loss: 0.2810 - val_acc: 0.8893\n",
      "Epoch 4/20\n",
      "15000/15000 [==============================] - 3s 173us/step - loss: 0.1702 - acc: 0.9443 - val_loss: 0.2744 - val_acc: 0.8891\n",
      "Epoch 5/20\n",
      "15000/15000 [==============================] - 3s 187us/step - loss: 0.1390 - acc: 0.9550 - val_loss: 0.2855 - val_acc: 0.8859\n",
      "Epoch 6/20\n",
      "15000/15000 [==============================] - 3s 197us/step - loss: 0.1120 - acc: 0.9662 - val_loss: 0.3177 - val_acc: 0.8810\n",
      "Epoch 7/20\n",
      "15000/15000 [==============================] - 3s 188us/step - loss: 0.0944 - acc: 0.9718 - val_loss: 0.3421 - val_acc: 0.8735\n",
      "Epoch 8/20\n",
      "15000/15000 [==============================] - 3s 205us/step - loss: 0.0752 - acc: 0.9793 - val_loss: 0.3318 - val_acc: 0.8817\n",
      "Epoch 9/20\n",
      "15000/15000 [==============================] - 3s 198us/step - loss: 0.0622 - acc: 0.9849 - val_loss: 0.3833 - val_acc: 0.8756\n",
      "Epoch 10/20\n",
      "15000/15000 [==============================] - 3s 205us/step - loss: 0.0478 - acc: 0.9892 - val_loss: 0.3818 - val_acc: 0.8773\n",
      "Epoch 11/20\n",
      "15000/15000 [==============================] - 3s 188us/step - loss: 0.0404 - acc: 0.9907 - val_loss: 0.4059 - val_acc: 0.8763\n",
      "Epoch 12/20\n",
      "15000/15000 [==============================] - 3s 176us/step - loss: 0.0323 - acc: 0.9932 - val_loss: 0.4363 - val_acc: 0.8778\n",
      "Epoch 13/20\n",
      "15000/15000 [==============================] - 3s 201us/step - loss: 0.0250 - acc: 0.9953 - val_loss: 0.4643 - val_acc: 0.8740\n",
      "Epoch 14/20\n",
      "15000/15000 [==============================] - 3s 199us/step - loss: 0.0198 - acc: 0.9963 - val_loss: 0.4949 - val_acc: 0.8724\n",
      "Epoch 15/20\n",
      "15000/15000 [==============================] - 3s 196us/step - loss: 0.0159 - acc: 0.9978 - val_loss: 0.5212 - val_acc: 0.8722\n",
      "Epoch 16/20\n",
      "15000/15000 [==============================] - 3s 188us/step - loss: 0.0127 - acc: 0.9979 - val_loss: 0.5519 - val_acc: 0.8721\n",
      "Epoch 17/20\n",
      "15000/15000 [==============================] - 3s 184us/step - loss: 0.0105 - acc: 0.9982 - val_loss: 0.5746 - val_acc: 0.8709\n",
      "Epoch 18/20\n",
      "15000/15000 [==============================] - 3s 175us/step - loss: 0.0055 - acc: 0.9998 - val_loss: 0.6123 - val_acc: 0.8687\n",
      "Epoch 19/20\n",
      "15000/15000 [==============================] - 3s 201us/step - loss: 0.0072 - acc: 0.9987 - val_loss: 0.6428 - val_acc: 0.8684\n",
      "Epoch 20/20\n",
      "15000/15000 [==============================] - 3s 195us/step - loss: 0.0031 - acc: 0.9999 - val_loss: 0.6801 - val_acc: 0.8623\n"
     ]
    }
   ],
   "source": [
    "model2 = models.Sequential()\n",
    "model2.add(layers.Dense(16, activation='relu', input_shape=(10000,)))\n",
    "model2.add(layers.Dense(16, activation='relu'))\n",
    "model2.add(layers.Dense(1, activation='sigmoid'))\n",
    "\n",
    "model2.compile(optimizer='rmsprop',\n",
    "              loss='binary_crossentropy',\n",
    "              metrics=['accuracy'])\n",
    "\n",
    "x_val = x_train[:10000]\n",
    "partial_x_train = x_train[10000:]\n",
    "\n",
    "y_val = y_train[:10000]\n",
    "partial_y_train = y_train[10000:]\n",
    "\n",
    "history2 = model2.fit(partial_x_train,\n",
    "                    partial_y_train,\n",
    "                    epochs=20,\n",
    "                    batch_size=512,\n",
    "                    validation_data=(x_val, y_val))"
   ]
  },
  {
   "cell_type": "code",
   "execution_count": 29,
   "metadata": {},
   "outputs": [
    {
     "name": "stdout",
     "output_type": "stream",
     "text": [
      "Train on 15000 samples, validate on 10000 samples\n",
      "Epoch 1/20\n",
      "15000/15000 [==============================] - 3s 185us/step - loss: 0.5466 - acc: 0.7543 - val_loss: 0.4056 - val_acc: 0.8468\n",
      "Epoch 2/20\n",
      "15000/15000 [==============================] - 2s 135us/step - loss: 0.3005 - acc: 0.8961 - val_loss: 0.2962 - val_acc: 0.8859\n",
      "Epoch 3/20\n",
      "15000/15000 [==============================] - 2s 155us/step - loss: 0.2090 - acc: 0.9261 - val_loss: 0.2810 - val_acc: 0.8891\n",
      "Epoch 4/20\n",
      "15000/15000 [==============================] - 2s 142us/step - loss: 0.1614 - acc: 0.9444 - val_loss: 0.3380 - val_acc: 0.8683\n",
      "Epoch 5/20\n",
      "15000/15000 [==============================] - 3s 179us/step - loss: 0.1305 - acc: 0.9559 - val_loss: 0.3114 - val_acc: 0.8852\n",
      "Epoch 6/20\n",
      "15000/15000 [==============================] - 3s 192us/step - loss: 0.1066 - acc: 0.9657 - val_loss: 0.3502 - val_acc: 0.8752\n",
      "Epoch 7/20\n",
      "15000/15000 [==============================] - 3s 193us/step - loss: 0.0823 - acc: 0.9743 - val_loss: 0.3541 - val_acc: 0.8807\n",
      "Epoch 8/20\n",
      "15000/15000 [==============================] - 3s 185us/step - loss: 0.0651 - acc: 0.9813 - val_loss: 0.3842 - val_acc: 0.8795\n",
      "Epoch 9/20\n",
      "15000/15000 [==============================] - 3s 206us/step - loss: 0.0540 - acc: 0.9838 - val_loss: 0.4378 - val_acc: 0.8689\n",
      "Epoch 10/20\n",
      "15000/15000 [==============================] - 3s 192us/step - loss: 0.0541 - acc: 0.9853 - val_loss: 0.4541 - val_acc: 0.8726\n",
      "Epoch 11/20\n",
      "15000/15000 [==============================] - 3s 184us/step - loss: 0.0312 - acc: 0.9909 - val_loss: 0.4971 - val_acc: 0.8690\n",
      "Epoch 12/20\n",
      "15000/15000 [==============================] - 3s 191us/step - loss: 0.0129 - acc: 0.9980 - val_loss: 0.5802 - val_acc: 0.8607\n",
      "Epoch 13/20\n",
      "15000/15000 [==============================] - 3s 179us/step - loss: 0.0364 - acc: 0.9903 - val_loss: 0.5607 - val_acc: 0.8714\n",
      "Epoch 14/20\n",
      "15000/15000 [==============================] - 3s 183us/step - loss: 0.0059 - acc: 0.9996 - val_loss: 0.6080 - val_acc: 0.8698\n",
      "Epoch 15/20\n",
      "15000/15000 [==============================] - 3s 199us/step - loss: 0.0313 - acc: 0.9921 - val_loss: 0.6355 - val_acc: 0.8710\n",
      "Epoch 16/20\n",
      "15000/15000 [==============================] - 3s 185us/step - loss: 0.0027 - acc: 0.9999 - val_loss: 0.6795 - val_acc: 0.8672\n",
      "Epoch 17/20\n",
      "15000/15000 [==============================] - 3s 187us/step - loss: 0.0330 - acc: 0.9919 - val_loss: 0.7279 - val_acc: 0.8666\n",
      "Epoch 18/20\n",
      "15000/15000 [==============================] - 3s 173us/step - loss: 0.0014 - acc: 0.9999 - val_loss: 0.7353 - val_acc: 0.8690\n",
      "Epoch 19/20\n",
      "15000/15000 [==============================] - 3s 186us/step - loss: 0.0011 - acc: 0.9999 - val_loss: 0.7679 - val_acc: 0.8676\n",
      "Epoch 20/20\n",
      "15000/15000 [==============================] - 3s 182us/step - loss: 0.0240 - acc: 0.9931 - val_loss: 0.8155 - val_acc: 0.8652\n"
     ]
    }
   ],
   "source": [
    "model4 = models.Sequential()\n",
    "model4.add(layers.Dense(16, activation='relu', input_shape=(10000,)))\n",
    "model4.add(layers.Dense(16, activation='relu'))\n",
    "model4.add(layers.Dense(16, activation='relu'))\n",
    "model4.add(layers.Dense(16, activation='relu'))\n",
    "model4.add(layers.Dense(1, activation='sigmoid'))\n",
    "\n",
    "model4.compile(optimizer='rmsprop',\n",
    "              loss='binary_crossentropy',\n",
    "              metrics=['accuracy'])\n",
    "\n",
    "x_val = x_train[:10000]\n",
    "partial_x_train = x_train[10000:]\n",
    "\n",
    "y_val = y_train[:10000]\n",
    "partial_y_train = y_train[10000:]\n",
    "\n",
    "history4 = model4.fit(partial_x_train,\n",
    "                    partial_y_train,\n",
    "                    epochs=20,\n",
    "                    batch_size=512,\n",
    "                    validation_data=(x_val, y_val))"
   ]
  },
  {
   "cell_type": "code",
   "execution_count": 30,
   "metadata": {},
   "outputs": [
    {
     "data": {
      "image/png": "[encoded data removed]",
      "text/plain": [
       "<Figure size 432x288 with 1 Axes>"
      ]
     },
     "metadata": {
      "needs_background": "light"
     },
     "output_type": "display_data"
    }
   ],
   "source": [
    "history_dict1 = history1.history\n",
    "history_dict1.keys()\n",
    "history_dict2 = history2.history\n",
    "history_dict2.keys()\n",
    "history_dict4 = history4.history\n",
    "history_dict4.keys()\n",
    "\n",
    "\n",
    "plt.clf()   # clear figure\n",
    "acc_values1 = history_dict1['acc']\n",
    "acc_values2 = history_dict2['acc']\n",
    "acc_values4 = history_dict4['acc']\n",
    "\n",
    "\n",
    "epochs = range(1, len(acc_values1) + 1)\n",
    "\n",
    "\n",
    "plt.plot(epochs, acc_values1, 'b', label='ACC 1 Hidden')\n",
    "plt.plot(epochs, acc_values2, 'r', label='ACC 2 Hidden')\n",
    "plt.plot(epochs, acc_values4, 'g', label='ACC 4 Hidden')\n",
    "\n",
    "plt.title('Training Accuracy')\n",
    "plt.xlabel('Epochs')\n",
    "plt.ylabel('Accuracy')\n",
    "plt.legend()\n",
    "\n",
    "plt.show()"
   ]
  },
  {
   "cell_type": "code",
   "execution_count": null,
   "metadata": {},
   "outputs": [],
   "source": []
  }
 ],
 "metadata": {
  "kernelspec": {
   "display_name": "Python 3",
   "language": "python",
   "name": "python3"
  },
  "language_info": {
   "codemirror_mode": {
    "name": "ipython",
    "version": 3
   },
   "file_extension": ".py",
   "mimetype": "text/x-python",
   "name": "python",
   "nbconvert_exporter": "python",
   "pygments_lexer": "ipython3",
   "version": "3.6.10"
  }
 },
 "nbformat": 4,
 "nbformat_minor": 4
}
