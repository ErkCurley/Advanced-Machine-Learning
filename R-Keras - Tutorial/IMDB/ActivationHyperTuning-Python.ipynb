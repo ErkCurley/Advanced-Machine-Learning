{
 "cells": [
  {
   "cell_type": "code",
   "execution_count": 46,
   "metadata": {},
   "outputs": [],
   "source": [
    "from keras.datasets import imdb\n",
    "import numpy as np\n",
    "from keras import models\n",
    "from keras import layers\n",
    "from keras import optimizers\n",
    "from keras import losses\n",
    "from keras import metrics\n",
    "import matplotlib.pyplot as plt\n",
    "from keras import regularizers\n"
   ]
  },
  {
   "cell_type": "code",
   "execution_count": 2,
   "metadata": {},
   "outputs": [],
   "source": [
    "(train_data, train_labels), (test_data, test_labels) = imdb.load_data(num_words=10000)"
   ]
  },
  {
   "cell_type": "code",
   "execution_count": 3,
   "metadata": {},
   "outputs": [],
   "source": [
    "def vectorize_sequences(sequences, dimension=10000):\n",
    "    # Create an all-zero matrix of shape (len(sequences), dimension)\n",
    "    results = np.zeros((len(sequences), dimension))\n",
    "    for i, sequence in enumerate(sequences):\n",
    "        results[i, sequence] = 1.  # set specific indices of results[i] to 1s\n",
    "    return results"
   ]
  },
  {
   "cell_type": "code",
   "execution_count": 4,
   "metadata": {},
   "outputs": [],
   "source": [
    "# Our vectorized training data\n",
    "x_train = vectorize_sequences(train_data)\n",
    "# Our vectorized test data\n",
    "x_test = vectorize_sequences(test_data)"
   ]
  },
  {
   "cell_type": "code",
   "execution_count": 5,
   "metadata": {},
   "outputs": [],
   "source": [
    "y_train = np.asarray(train_labels).astype('float32')\n",
    "y_test = np.asarray(test_labels).astype('float32')"
   ]
  },
  {
   "cell_type": "code",
   "execution_count": 22,
   "metadata": {},
   "outputs": [],
   "source": [
    "model = models.Sequential()\n",
    "model.add(layers.Dense(16, activation='relu', input_shape=(10000,)))\n",
    "model.add(layers.Dense(16, activation='relu'))\n",
    "model.add(layers.Dense(1, activation='sigmoid'))"
   ]
  },
  {
   "cell_type": "code",
   "execution_count": 23,
   "metadata": {},
   "outputs": [],
   "source": [
    "model.compile(optimizer='rmsprop',\n",
    "              loss='binary_crossentropy',\n",
    "              metrics=['accuracy'])"
   ]
  },
  {
   "cell_type": "code",
   "execution_count": 8,
   "metadata": {},
   "outputs": [],
   "source": [
    "x_val = x_train[:10000]\n",
    "partial_x_train = x_train[10000:]\n",
    "\n",
    "y_val = y_train[:10000]\n",
    "partial_y_train = y_train[10000:]"
   ]
  },
  {
   "cell_type": "code",
   "execution_count": 9,
   "metadata": {},
   "outputs": [
    {
     "name": "stdout",
     "output_type": "stream",
     "text": [
      "WARNING:tensorflow:From C:\\Users\\EricC\\Anaconda3\\envs\\R-Keras\\lib\\site-packages\\keras\\backend\\tensorflow_backend.py:986: The name tf.assign_add is deprecated. Please use tf.compat.v1.assign_add instead.\n",
      "\n",
      "WARNING:tensorflow:From C:\\Users\\EricC\\Anaconda3\\envs\\R-Keras\\lib\\site-packages\\keras\\backend\\tensorflow_backend.py:973: The name tf.assign is deprecated. Please use tf.compat.v1.assign instead.\n",
      "\n",
      "WARNING:tensorflow:From C:\\Users\\EricC\\Anaconda3\\envs\\R-Keras\\lib\\site-packages\\keras\\backend\\tensorflow_backend.py:2741: The name tf.Session is deprecated. Please use tf.compat.v1.Session instead.\n",
      "\n",
      "Train on 15000 samples, validate on 10000 samples\n",
      "Epoch 1/20\n",
      "WARNING:tensorflow:From C:\\Users\\EricC\\Anaconda3\\envs\\R-Keras\\lib\\site-packages\\keras\\backend\\tensorflow_backend.py:174: The name tf.get_default_session is deprecated. Please use tf.compat.v1.get_default_session instead.\n",
      "\n",
      "WARNING:tensorflow:From C:\\Users\\EricC\\Anaconda3\\envs\\R-Keras\\lib\\site-packages\\keras\\backend\\tensorflow_backend.py:181: The name tf.ConfigProto is deprecated. Please use tf.compat.v1.ConfigProto instead.\n",
      "\n",
      "WARNING:tensorflow:From C:\\Users\\EricC\\Anaconda3\\envs\\R-Keras\\lib\\site-packages\\keras\\backend\\tensorflow_backend.py:190: The name tf.global_variables is deprecated. Please use tf.compat.v1.global_variables instead.\n",
      "\n",
      "WARNING:tensorflow:From C:\\Users\\EricC\\Anaconda3\\envs\\R-Keras\\lib\\site-packages\\keras\\backend\\tensorflow_backend.py:199: The name tf.is_variable_initialized is deprecated. Please use tf.compat.v1.is_variable_initialized instead.\n",
      "\n",
      "WARNING:tensorflow:From C:\\Users\\EricC\\Anaconda3\\envs\\R-Keras\\lib\\site-packages\\keras\\backend\\tensorflow_backend.py:206: The name tf.variables_initializer is deprecated. Please use tf.compat.v1.variables_initializer instead.\n",
      "\n",
      "15000/15000 [==============================] - 3s 199us/step - loss: 0.5098 - acc: 0.7804 - val_loss: 0.3825 - val_acc: 0.8667\n",
      "Epoch 2/20\n",
      "15000/15000 [==============================] - 2s 140us/step - loss: 0.3012 - acc: 0.9039 - val_loss: 0.2994 - val_acc: 0.8908\n",
      "Epoch 3/20\n",
      "15000/15000 [==============================] - 2s 139us/step - loss: 0.2161 - acc: 0.9287 - val_loss: 0.3079 - val_acc: 0.8725\n",
      "Epoch 4/20\n",
      "15000/15000 [==============================] - 2s 141us/step - loss: 0.1728 - acc: 0.9436 - val_loss: 0.2836 - val_acc: 0.8846\n",
      "Epoch 5/20\n",
      "15000/15000 [==============================] - 2s 144us/step - loss: 0.1395 - acc: 0.9552 - val_loss: 0.2854 - val_acc: 0.8864\n",
      "Epoch 6/20\n",
      "15000/15000 [==============================] - 2s 139us/step - loss: 0.1119 - acc: 0.9658 - val_loss: 0.3103 - val_acc: 0.8800\n",
      "Epoch 7/20\n",
      "15000/15000 [==============================] - 2s 142us/step - loss: 0.0943 - acc: 0.9721 - val_loss: 0.3168 - val_acc: 0.8844\n",
      "Epoch 8/20\n",
      "15000/15000 [==============================] - 2s 151us/step - loss: 0.0774 - acc: 0.9773 - val_loss: 0.3902 - val_acc: 0.8648\n",
      "Epoch 9/20\n",
      "15000/15000 [==============================] - 2s 154us/step - loss: 0.0627 - acc: 0.9829 - val_loss: 0.3713 - val_acc: 0.8765\n",
      "Epoch 10/20\n",
      "15000/15000 [==============================] - 2s 148us/step - loss: 0.0529 - acc: 0.9861 - val_loss: 0.3929 - val_acc: 0.8786\n",
      "Epoch 11/20\n",
      "15000/15000 [==============================] - 2s 141us/step - loss: 0.0369 - acc: 0.9923 - val_loss: 0.4306 - val_acc: 0.8762\n",
      "Epoch 12/20\n",
      "15000/15000 [==============================] - 2s 152us/step - loss: 0.0349 - acc: 0.9914 - val_loss: 0.4918 - val_acc: 0.8631\n",
      "Epoch 13/20\n",
      "15000/15000 [==============================] - 2s 145us/step - loss: 0.0274 - acc: 0.9939 - val_loss: 0.4843 - val_acc: 0.8739\n",
      "Epoch 14/20\n",
      "15000/15000 [==============================] - 2s 152us/step - loss: 0.0215 - acc: 0.9953 - val_loss: 0.5141 - val_acc: 0.8720\n",
      "Epoch 15/20\n",
      "15000/15000 [==============================] - 2s 154us/step - loss: 0.0167 - acc: 0.9973 - val_loss: 0.5415 - val_acc: 0.8715\n",
      "Epoch 16/20\n",
      "15000/15000 [==============================] - 2s 153us/step - loss: 0.0135 - acc: 0.9982 - val_loss: 0.5755 - val_acc: 0.8690\n",
      "Epoch 17/20\n",
      "15000/15000 [==============================] - 2s 152us/step - loss: 0.0130 - acc: 0.9976 - val_loss: 0.6045 - val_acc: 0.8669\n",
      "Epoch 18/20\n",
      "15000/15000 [==============================] - 2s 163us/step - loss: 0.0063 - acc: 0.9997 - val_loss: 0.6565 - val_acc: 0.8662\n",
      "Epoch 19/20\n",
      "15000/15000 [==============================] - 2s 165us/step - loss: 0.0108 - acc: 0.9980 - val_loss: 0.6651 - val_acc: 0.8662\n",
      "Epoch 20/20\n",
      "15000/15000 [==============================] - 2s 156us/step - loss: 0.0035 - acc: 0.9999 - val_loss: 0.6942 - val_acc: 0.8675\n"
     ]
    }
   ],
   "source": [
    "history = model.fit(partial_x_train,\n",
    "                    partial_y_train,\n",
    "                    epochs=20,\n",
    "                    batch_size=512,\n",
    "                    validation_data=(x_val, y_val))"
   ]
  },
  {
   "cell_type": "code",
   "execution_count": 11,
   "metadata": {},
   "outputs": [
    {
     "data": {
      "text/plain": [
       "dict_keys(['val_loss', 'val_acc', 'loss', 'acc'])"
      ]
     },
     "execution_count": 11,
     "metadata": {},
     "output_type": "execute_result"
    }
   ],
   "source": [
    "history_dict = history.history\n",
    "history_dict.keys()"
   ]
  },
  {
   "cell_type": "code",
   "execution_count": 12,
   "metadata": {},
   "outputs": [],
   "source": [
    "acc = history.history['acc']\n",
    "val_acc = history.history['val_acc']\n",
    "loss = history.history['loss']\n",
    "val_loss = history.history['val_loss']"
   ]
  },
  {
   "cell_type": "code",
   "execution_count": 13,
   "metadata": {},
   "outputs": [
    {
     "data": {
      "text/plain": [
       "<matplotlib.legend.Legend at 0x218128ec9b0>"
      ]
     },
     "execution_count": 13,
     "metadata": {},
     "output_type": "execute_result"
    },
    {
     "data": {
      "image/png": "[encoded data removed]",
      "text/plain": [
       "<Figure size 432x288 with 1 Axes>"
      ]
     },
     "metadata": {
      "needs_background": "light"
     },
     "output_type": "display_data"
    }
   ],
   "source": [
    "epochs = range(1, len(acc) + 1)\n",
    "\n",
    "# \"bo\" is for \"blue dot\"\n",
    "plt.plot(epochs, loss, 'bo', label='Training loss')\n",
    "# b is for \"solid blue line\"\n",
    "plt.plot(epochs, val_loss, 'b', label='Validation loss')\n",
    "plt.title('Training and validation loss')\n",
    "plt.xlabel('Epochs')\n",
    "plt.ylabel('Loss')\n",
    "plt.legend()"
   ]
  },
  {
   "cell_type": "code",
   "execution_count": 14,
   "metadata": {},
   "outputs": [
    {
     "data": {
      "image/png": "[encoded data removed]",
      "text/plain": [
       "<Figure size 432x288 with 1 Axes>"
      ]
     },
     "metadata": {
      "needs_background": "light"
     },
     "output_type": "display_data"
    }
   ],
   "source": [
    "plt.clf()   # clear figure\n",
    "acc_values = history_dict['acc']\n",
    "val_acc_values = history_dict['val_acc']\n",
    "\n",
    "plt.plot(epochs, acc, 'bo', label='Training acc')\n",
    "plt.plot(epochs, val_acc, 'b', label='Validation acc')\n",
    "plt.title('Training and validation accuracy')\n",
    "plt.xlabel('Epochs')\n",
    "plt.ylabel('Loss')\n",
    "plt.legend()\n",
    "\n",
    "plt.show()"
   ]
  },
  {
   "cell_type": "code",
   "execution_count": 44,
   "metadata": {},
   "outputs": [
    {
     "name": "stdout",
     "output_type": "stream",
     "text": [
      "Train on 15000 samples, validate on 10000 samples\n",
      "Epoch 1/20\n",
      "15000/15000 [==============================] - 3s 208us/step - loss: 0.4910 - acc: 0.7973 - val_loss: 0.3778 - val_acc: 0.8711\n",
      "Epoch 2/20\n",
      "15000/15000 [==============================] - 2s 135us/step - loss: 0.3049 - acc: 0.9035 - val_loss: 0.3296 - val_acc: 0.8736\n",
      "Epoch 3/20\n",
      "15000/15000 [==============================] - 2s 147us/step - loss: 0.2363 - acc: 0.9279 - val_loss: 0.2866 - val_acc: 0.8904\n",
      "Epoch 4/20\n",
      "15000/15000 [==============================] - 2s 153us/step - loss: 0.1927 - acc: 0.9413 - val_loss: 0.2771 - val_acc: 0.8907\n",
      "Epoch 5/20\n",
      "15000/15000 [==============================] - 3s 189us/step - loss: 0.1652 - acc: 0.9499 - val_loss: 0.2767 - val_acc: 0.8886\n",
      "Epoch 6/20\n",
      "15000/15000 [==============================] - 3s 187us/step - loss: 0.1411 - acc: 0.9581 - val_loss: 0.2874 - val_acc: 0.8852\n",
      "Epoch 7/20\n",
      "15000/15000 [==============================] - 3s 185us/step - loss: 0.1233 - acc: 0.9663 - val_loss: 0.2840 - val_acc: 0.8864\n",
      "Epoch 8/20\n",
      "15000/15000 [==============================] - 3s 191us/step - loss: 0.1081 - acc: 0.9712 - val_loss: 0.2918 - val_acc: 0.8846\n",
      "Epoch 9/20\n",
      "15000/15000 [==============================] - 3s 196us/step - loss: 0.0946 - acc: 0.9757 - val_loss: 0.3032 - val_acc: 0.8834\n",
      "Epoch 10/20\n",
      "15000/15000 [==============================] - 3s 189us/step - loss: 0.0841 - acc: 0.9786 - val_loss: 0.3144 - val_acc: 0.8835\n",
      "Epoch 11/20\n",
      "15000/15000 [==============================] - 3s 184us/step - loss: 0.0731 - acc: 0.9827 - val_loss: 0.3272 - val_acc: 0.8808\n",
      "Epoch 12/20\n",
      "15000/15000 [==============================] - 3s 182us/step - loss: 0.0646 - acc: 0.9863 - val_loss: 0.3475 - val_acc: 0.8760\n",
      "Epoch 13/20\n",
      "15000/15000 [==============================] - 3s 181us/step - loss: 0.0569 - acc: 0.9879 - val_loss: 0.3590 - val_acc: 0.8794\n",
      "Epoch 14/20\n",
      "15000/15000 [==============================] - 3s 189us/step - loss: 0.0503 - acc: 0.9904 - val_loss: 0.3783 - val_acc: 0.8775\n",
      "Epoch 15/20\n",
      "15000/15000 [==============================] - 3s 227us/step - loss: 0.0446 - acc: 0.9918 - val_loss: 0.3890 - val_acc: 0.8762\n",
      "Epoch 16/20\n",
      "15000/15000 [==============================] - 3s 185us/step - loss: 0.0386 - acc: 0.9938 - val_loss: 0.4081 - val_acc: 0.8754\n",
      "Epoch 17/20\n",
      "15000/15000 [==============================] - 3s 181us/step - loss: 0.0343 - acc: 0.9949 - val_loss: 0.4511 - val_acc: 0.8689\n",
      "Epoch 18/20\n",
      "15000/15000 [==============================] - 3s 176us/step - loss: 0.0303 - acc: 0.9955 - val_loss: 0.4425 - val_acc: 0.8686\n",
      "Epoch 19/20\n",
      "15000/15000 [==============================] - 3s 171us/step - loss: 0.0269 - acc: 0.9966 - val_loss: 0.4588 - val_acc: 0.8682\n",
      "Epoch 20/20\n",
      "15000/15000 [==============================] - 3s 192us/step - loss: 0.0228 - acc: 0.9971 - val_loss: 0.4796 - val_acc: 0.8713\n"
     ]
    }
   ],
   "source": [
    "model1 = models.Sequential()\n",
    "model1.add(layers.Dense(16, activation='relu', input_shape=(10000,)))\n",
    "model2.add(layers.Dense(16, activation='relu'))\n",
    "model1.add(layers.Dense(1, activation='sigmoid'))\n",
    "\n",
    "model1.compile(optimizer='rmsprop',\n",
    "              loss='binary_crossentropy',\n",
    "              metrics=['accuracy'])\n",
    "\n",
    "x_val = x_train[:10000]\n",
    "partial_x_train = x_train[10000:]\n",
    "\n",
    "y_val = y_train[:10000]\n",
    "partial_y_train = y_train[10000:]\n",
    "\n",
    "history1 = model1.fit(partial_x_train,\n",
    "                    partial_y_train,\n",
    "                    epochs=20,\n",
    "                    batch_size=512,\n",
    "                    validation_data=(x_val, y_val))"
   ]
  },
  {
   "cell_type": "code",
   "execution_count": 51,
   "metadata": {},
   "outputs": [
    {
     "name": "stdout",
     "output_type": "stream",
     "text": [
      "WARNING:tensorflow:From C:\\Users\\EricC\\Anaconda3\\envs\\R-Keras\\lib\\site-packages\\keras\\backend\\tensorflow_backend.py:133: The name tf.placeholder_with_default is deprecated. Please use tf.compat.v1.placeholder_with_default instead.\n",
      "\n",
      "WARNING:tensorflow:From C:\\Users\\EricC\\Anaconda3\\envs\\R-Keras\\lib\\site-packages\\keras\\backend\\tensorflow_backend.py:3445: calling dropout (from tensorflow.python.ops.nn_ops) with keep_prob is deprecated and will be removed in a future version.\n",
      "Instructions for updating:\n",
      "Please use `rate` instead of `keep_prob`. Rate should be set to `rate = 1 - keep_prob`.\n",
      "Train on 15000 samples, validate on 10000 samples\n",
      "Epoch 1/20\n",
      "15000/15000 [==============================] - 4s 244us/step - loss: 0.6624 - acc: 0.6862 - val_loss: 0.5015 - val_acc: 0.8523\n",
      "Epoch 2/20\n",
      "15000/15000 [==============================] - 2s 159us/step - loss: 0.4789 - acc: 0.8379 - val_loss: 0.4063 - val_acc: 0.8587\n",
      "Epoch 3/20\n",
      "15000/15000 [==============================] - 3s 184us/step - loss: 0.3931 - acc: 0.8797 - val_loss: 0.3542 - val_acc: 0.8847\n",
      "Epoch 4/20\n",
      "15000/15000 [==============================] - 3s 226us/step - loss: 0.3351 - acc: 0.9058 - val_loss: 0.3380 - val_acc: 0.8893\n",
      "Epoch 5/20\n",
      "15000/15000 [==============================] - 3s 203us/step - loss: 0.2990 - acc: 0.9183 - val_loss: 0.3480 - val_acc: 0.8820\n",
      "Epoch 6/20\n",
      "15000/15000 [==============================] - 3s 204us/step - loss: 0.2691 - acc: 0.9312 - val_loss: 0.3550 - val_acc: 0.8838\n",
      "Epoch 7/20\n",
      "15000/15000 [==============================] - 3s 209us/step - loss: 0.2566 - acc: 0.9359 - val_loss: 0.3548 - val_acc: 0.8873\n",
      "Epoch 8/20\n",
      "15000/15000 [==============================] - 3s 223us/step - loss: 0.2361 - acc: 0.9443 - val_loss: 0.3621 - val_acc: 0.8838\n",
      "Epoch 9/20\n",
      "15000/15000 [==============================] - 4s 264us/step - loss: 0.2255 - acc: 0.9465 - val_loss: 0.4251 - val_acc: 0.8758\n",
      "Epoch 10/20\n",
      "15000/15000 [==============================] - 3s 219us/step - loss: 0.2102 - acc: 0.9551 - val_loss: 0.4012 - val_acc: 0.8810\n",
      "Epoch 11/20\n",
      "15000/15000 [==============================] - 3s 191us/step - loss: 0.2033 - acc: 0.9541 - val_loss: 0.3886 - val_acc: 0.8825\n",
      "Epoch 12/20\n",
      "15000/15000 [==============================] - 3s 199us/step - loss: 0.1983 - acc: 0.9565 - val_loss: 0.4127 - val_acc: 0.8822\n",
      "Epoch 13/20\n",
      "15000/15000 [==============================] - 4s 262us/step - loss: 0.1959 - acc: 0.9576 - val_loss: 0.4108 - val_acc: 0.8747\n",
      "Epoch 14/20\n",
      "15000/15000 [==============================] - 4s 238us/step - loss: 0.1850 - acc: 0.9617 - val_loss: 0.4254 - val_acc: 0.8796\n",
      "Epoch 15/20\n",
      "15000/15000 [==============================] - 3s 219us/step - loss: 0.1820 - acc: 0.9631 - val_loss: 0.4584 - val_acc: 0.8709\n",
      "Epoch 16/20\n",
      "15000/15000 [==============================] - 3s 201us/step - loss: 0.1774 - acc: 0.9634 - val_loss: 0.4374 - val_acc: 0.8804\n",
      "Epoch 17/20\n",
      "15000/15000 [==============================] - 4s 237us/step - loss: 0.1770 - acc: 0.9657 - val_loss: 0.4564 - val_acc: 0.8675\n",
      "Epoch 18/20\n",
      "15000/15000 [==============================] - 3s 232us/step - loss: 0.1712 - acc: 0.9661 - val_loss: 0.4638 - val_acc: 0.8770\n",
      "Epoch 19/20\n",
      "15000/15000 [==============================] - 3s 205us/step - loss: 0.1658 - acc: 0.9687 - val_loss: 0.4965 - val_acc: 0.8527\n",
      "Epoch 20/20\n",
      "15000/15000 [==============================] - 3s 229us/step - loss: 0.1700 - acc: 0.9657 - val_loss: 0.4532 - val_acc: 0.8772\n"
     ]
    }
   ],
   "source": [
    "model2 = models.Sequential()\n",
    "model2.add(layers.Dense(32, activation='relu', kernel_regularizer=regularizers.l2(0.001), input_shape=(10000,)))\n",
    "model2.add(layers.Dropout(0.5))\n",
    "model2.add(layers.Dense(32, activation='relu', kernel_regularizer=regularizers.l2(0.001)))\n",
    "model2.add(layers.Dropout(0.5))\n",
    "model2.add(layers.Dense(1, activation='sigmoid'))\n",
    "\n",
    "model2.compile(optimizer='rmsprop',\n",
    "              loss='binary_crossentropy',\n",
    "              metrics=['accuracy'])\n",
    "\n",
    "x_val = x_train[:10000]\n",
    "partial_x_train = x_train[10000:]\n",
    "\n",
    "y_val = y_train[:10000]\n",
    "partial_y_train = y_train[10000:]\n",
    "\n",
    "history2 = model2.fit(partial_x_train,\n",
    "                    partial_y_train,\n",
    "                    epochs=20,\n",
    "                    batch_size=512,\n",
    "                    validation_data=(x_val, y_val))"
   ]
  },
  {
   "cell_type": "code",
   "execution_count": 52,
   "metadata": {},
   "outputs": [
    {
     "data": {
      "image/png": "[encoded data removed]",
      "text/plain": [
       "<Figure size 432x288 with 1 Axes>"
      ]
     },
     "metadata": {
      "needs_background": "light"
     },
     "output_type": "display_data"
    }
   ],
   "source": [
    "history_dict1 = history1.history\n",
    "history_dict1.keys()\n",
    "history_dict2 = history2.history\n",
    "history_dict2.keys()\n",
    "\n",
    "\n",
    "plt.clf()   # clear figure\n",
    "acc_values1 = history_dict1['val_acc']\n",
    "acc_values2 = history_dict2['val_acc']\n",
    "loss_values1 = history_dict1['val_loss']\n",
    "loss_values2 = history_dict2['val_loss']\n",
    "\n",
    "\n",
    "\n",
    "epochs = range(1, len(acc_values1) + 1)\n",
    "\n",
    "\n",
    "plt.plot(epochs, acc_values1, 'b', label='ValACC Orig')\n",
    "plt.plot(epochs, acc_values2, 'r', label='ValACC Regu')\n",
    "plt.plot(epochs, loss_values1, 'b--', label='ValLoss Orig')\n",
    "plt.plot(epochs, loss_values2, 'r--', label='ValLoss Regu')\n",
    "\n",
    "plt.title('Training Accuracy & Loss')\n",
    "plt.xlabel('Epochs')\n",
    "plt.ylabel('Accuracy / Loss')\n",
    "plt.legend()\n",
    "\n",
    "plt.show()"
   ]
  },
  {
   "cell_type": "code",
   "execution_count": null,
   "metadata": {},
   "outputs": [],
   "source": []
  }
 ],
 "metadata": {
  "kernelspec": {
   "display_name": "Python 3",
   "language": "python",
   "name": "python3"
  },
  "language_info": {
   "codemirror_mode": {
    "name": "ipython",
    "version": 3
   },
   "file_extension": ".py",
   "mimetype": "text/x-python",
   "name": "python",
   "nbconvert_exporter": "python",
   "pygments_lexer": "ipython3",
   "version": "3.6.10"
  }
 },
 "nbformat": 4,
 "nbformat_minor": 4
}
