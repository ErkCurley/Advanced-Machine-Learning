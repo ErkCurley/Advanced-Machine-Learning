{
 "cells": [
  {
   "cell_type": "code",
   "execution_count": 1,
   "metadata": {},
   "outputs": [
    {
     "name": "stderr",
     "output_type": "stream",
     "text": [
      "Using TensorFlow backend.\n"
     ]
    }
   ],
   "source": [
    "from keras.datasets import imdb\n",
    "import numpy as np\n",
    "from keras import models\n",
    "from keras import layers\n",
    "from keras import optimizers\n",
    "from keras import losses\n",
    "from keras import metrics\n",
    "import matplotlib.pyplot as plt"
   ]
  },
  {
   "cell_type": "code",
   "execution_count": 2,
   "metadata": {},
   "outputs": [],
   "source": [
    "(train_data, train_labels), (test_data, test_labels) = imdb.load_data(num_words=10000)"
   ]
  },
  {
   "cell_type": "code",
   "execution_count": 3,
   "metadata": {},
   "outputs": [],
   "source": [
    "def vectorize_sequences(sequences, dimension=10000):\n",
    "    # Create an all-zero matrix of shape (len(sequences), dimension)\n",
    "    results = np.zeros((len(sequences), dimension))\n",
    "    for i, sequence in enumerate(sequences):\n",
    "        results[i, sequence] = 1.  # set specific indices of results[i] to 1s\n",
    "    return results"
   ]
  },
  {
   "cell_type": "code",
   "execution_count": 4,
   "metadata": {},
   "outputs": [],
   "source": [
    "# Our vectorized training data\n",
    "x_train = vectorize_sequences(train_data)\n",
    "# Our vectorized test data\n",
    "x_test = vectorize_sequences(test_data)"
   ]
  },
  {
   "cell_type": "code",
   "execution_count": 5,
   "metadata": {},
   "outputs": [],
   "source": [
    "y_train = np.asarray(train_labels).astype('float32')\n",
    "y_test = np.asarray(test_labels).astype('float32')"
   ]
  },
  {
   "cell_type": "code",
   "execution_count": 22,
   "metadata": {},
   "outputs": [],
   "source": [
    "model = models.Sequential()\n",
    "model.add(layers.Dense(16, activation='relu', input_shape=(10000,)))\n",
    "model.add(layers.Dense(16, activation='relu'))\n",
    "model.add(layers.Dense(1, activation='sigmoid'))"
   ]
  },
  {
   "cell_type": "code",
   "execution_count": 23,
   "metadata": {},
   "outputs": [],
   "source": [
    "model.compile(optimizer='rmsprop',\n",
    "              loss='binary_crossentropy',\n",
    "              metrics=['accuracy'])"
   ]
  },
  {
   "cell_type": "code",
   "execution_count": 8,
   "metadata": {},
   "outputs": [],
   "source": [
    "x_val = x_train[:10000]\n",
    "partial_x_train = x_train[10000:]\n",
    "\n",
    "y_val = y_train[:10000]\n",
    "partial_y_train = y_train[10000:]"
   ]
  },
  {
   "cell_type": "code",
   "execution_count": 9,
   "metadata": {},
   "outputs": [
    {
     "name": "stdout",
     "output_type": "stream",
     "text": [
      "WARNING:tensorflow:From C:\\Users\\EricC\\Anaconda3\\envs\\R-Keras\\lib\\site-packages\\keras\\backend\\tensorflow_backend.py:986: The name tf.assign_add is deprecated. Please use tf.compat.v1.assign_add instead.\n",
      "\n",
      "WARNING:tensorflow:From C:\\Users\\EricC\\Anaconda3\\envs\\R-Keras\\lib\\site-packages\\keras\\backend\\tensorflow_backend.py:973: The name tf.assign is deprecated. Please use tf.compat.v1.assign instead.\n",
      "\n",
      "WARNING:tensorflow:From C:\\Users\\EricC\\Anaconda3\\envs\\R-Keras\\lib\\site-packages\\keras\\backend\\tensorflow_backend.py:2741: The name tf.Session is deprecated. Please use tf.compat.v1.Session instead.\n",
      "\n",
      "Train on 15000 samples, validate on 10000 samples\n",
      "Epoch 1/20\n",
      "WARNING:tensorflow:From C:\\Users\\EricC\\Anaconda3\\envs\\R-Keras\\lib\\site-packages\\keras\\backend\\tensorflow_backend.py:174: The name tf.get_default_session is deprecated. Please use tf.compat.v1.get_default_session instead.\n",
      "\n",
      "WARNING:tensorflow:From C:\\Users\\EricC\\Anaconda3\\envs\\R-Keras\\lib\\site-packages\\keras\\backend\\tensorflow_backend.py:181: The name tf.ConfigProto is deprecated. Please use tf.compat.v1.ConfigProto instead.\n",
      "\n",
      "WARNING:tensorflow:From C:\\Users\\EricC\\Anaconda3\\envs\\R-Keras\\lib\\site-packages\\keras\\backend\\tensorflow_backend.py:190: The name tf.global_variables is deprecated. Please use tf.compat.v1.global_variables instead.\n",
      "\n",
      "WARNING:tensorflow:From C:\\Users\\EricC\\Anaconda3\\envs\\R-Keras\\lib\\site-packages\\keras\\backend\\tensorflow_backend.py:199: The name tf.is_variable_initialized is deprecated. Please use tf.compat.v1.is_variable_initialized instead.\n",
      "\n",
      "WARNING:tensorflow:From C:\\Users\\EricC\\Anaconda3\\envs\\R-Keras\\lib\\site-packages\\keras\\backend\\tensorflow_backend.py:206: The name tf.variables_initializer is deprecated. Please use tf.compat.v1.variables_initializer instead.\n",
      "\n",
      "15000/15000 [==============================] - 3s 199us/step - loss: 0.5098 - acc: 0.7804 - val_loss: 0.3825 - val_acc: 0.8667\n",
      "Epoch 2/20\n",
      "15000/15000 [==============================] - 2s 140us/step - loss: 0.3012 - acc: 0.9039 - val_loss: 0.2994 - val_acc: 0.8908\n",
      "Epoch 3/20\n",
      "15000/15000 [==============================] - 2s 139us/step - loss: 0.2161 - acc: 0.9287 - val_loss: 0.3079 - val_acc: 0.8725\n",
      "Epoch 4/20\n",
      "15000/15000 [==============================] - 2s 141us/step - loss: 0.1728 - acc: 0.9436 - val_loss: 0.2836 - val_acc: 0.8846\n",
      "Epoch 5/20\n",
      "15000/15000 [==============================] - 2s 144us/step - loss: 0.1395 - acc: 0.9552 - val_loss: 0.2854 - val_acc: 0.8864\n",
      "Epoch 6/20\n",
      "15000/15000 [==============================] - 2s 139us/step - loss: 0.1119 - acc: 0.9658 - val_loss: 0.3103 - val_acc: 0.8800\n",
      "Epoch 7/20\n",
      "15000/15000 [==============================] - 2s 142us/step - loss: 0.0943 - acc: 0.9721 - val_loss: 0.3168 - val_acc: 0.8844\n",
      "Epoch 8/20\n",
      "15000/15000 [==============================] - 2s 151us/step - loss: 0.0774 - acc: 0.9773 - val_loss: 0.3902 - val_acc: 0.8648\n",
      "Epoch 9/20\n",
      "15000/15000 [==============================] - 2s 154us/step - loss: 0.0627 - acc: 0.9829 - val_loss: 0.3713 - val_acc: 0.8765\n",
      "Epoch 10/20\n",
      "15000/15000 [==============================] - 2s 148us/step - loss: 0.0529 - acc: 0.9861 - val_loss: 0.3929 - val_acc: 0.8786\n",
      "Epoch 11/20\n",
      "15000/15000 [==============================] - 2s 141us/step - loss: 0.0369 - acc: 0.9923 - val_loss: 0.4306 - val_acc: 0.8762\n",
      "Epoch 12/20\n",
      "15000/15000 [==============================] - 2s 152us/step - loss: 0.0349 - acc: 0.9914 - val_loss: 0.4918 - val_acc: 0.8631\n",
      "Epoch 13/20\n",
      "15000/15000 [==============================] - 2s 145us/step - loss: 0.0274 - acc: 0.9939 - val_loss: 0.4843 - val_acc: 0.8739\n",
      "Epoch 14/20\n",
      "15000/15000 [==============================] - 2s 152us/step - loss: 0.0215 - acc: 0.9953 - val_loss: 0.5141 - val_acc: 0.8720\n",
      "Epoch 15/20\n",
      "15000/15000 [==============================] - 2s 154us/step - loss: 0.0167 - acc: 0.9973 - val_loss: 0.5415 - val_acc: 0.8715\n",
      "Epoch 16/20\n",
      "15000/15000 [==============================] - 2s 153us/step - loss: 0.0135 - acc: 0.9982 - val_loss: 0.5755 - val_acc: 0.8690\n",
      "Epoch 17/20\n",
      "15000/15000 [==============================] - 2s 152us/step - loss: 0.0130 - acc: 0.9976 - val_loss: 0.6045 - val_acc: 0.8669\n",
      "Epoch 18/20\n",
      "15000/15000 [==============================] - 2s 163us/step - loss: 0.0063 - acc: 0.9997 - val_loss: 0.6565 - val_acc: 0.8662\n",
      "Epoch 19/20\n",
      "15000/15000 [==============================] - 2s 165us/step - loss: 0.0108 - acc: 0.9980 - val_loss: 0.6651 - val_acc: 0.8662\n",
      "Epoch 20/20\n",
      "15000/15000 [==============================] - 2s 156us/step - loss: 0.0035 - acc: 0.9999 - val_loss: 0.6942 - val_acc: 0.8675\n"
     ]
    }
   ],
   "source": [
    "history = model.fit(partial_x_train,\n",
    "                    partial_y_train,\n",
    "                    epochs=20,\n",
    "                    batch_size=512,\n",
    "                    validation_data=(x_val, y_val))"
   ]
  },
  {
   "cell_type": "code",
   "execution_count": 11,
   "metadata": {},
   "outputs": [
    {
     "data": {
      "text/plain": [
       "dict_keys(['val_loss', 'val_acc', 'loss', 'acc'])"
      ]
     },
     "execution_count": 11,
     "metadata": {},
     "output_type": "execute_result"
    }
   ],
   "source": [
    "history_dict = history.history\n",
    "history_dict.keys()"
   ]
  },
  {
   "cell_type": "code",
   "execution_count": 12,
   "metadata": {},
   "outputs": [],
   "source": [
    "acc = history.history['acc']\n",
    "val_acc = history.history['val_acc']\n",
    "loss = history.history['loss']\n",
    "val_loss = history.history['val_loss']"
   ]
  },
  {
   "cell_type": "code",
   "execution_count": 13,
   "metadata": {},
   "outputs": [
    {
     "data": {
      "text/plain": [
       "<matplotlib.legend.Legend at 0x218128ec9b0>"
      ]
     },
     "execution_count": 13,
     "metadata": {},
     "output_type": "execute_result"
    },
    {
     "data": {
      "image/png": "[encoded data removed]",
      "text/plain": [
       "<Figure size 432x288 with 1 Axes>"
      ]
     },
     "metadata": {
      "needs_background": "light"
     },
     "output_type": "display_data"
    }
   ],
   "source": [
    "epochs = range(1, len(acc) + 1)\n",
    "\n",
    "# \"bo\" is for \"blue dot\"\n",
    "plt.plot(epochs, loss, 'bo', label='Training loss')\n",
    "# b is for \"solid blue line\"\n",
    "plt.plot(epochs, val_loss, 'b', label='Validation loss')\n",
    "plt.title('Training and validation loss')\n",
    "plt.xlabel('Epochs')\n",
    "plt.ylabel('Loss')\n",
    "plt.legend()"
   ]
  },
  {
   "cell_type": "code",
   "execution_count": 14,
   "metadata": {},
   "outputs": [
    {
     "data": {
      "image/png": "[encoded data removed]",
      "text/plain": [
       "<Figure size 432x288 with 1 Axes>"
      ]
     },
     "metadata": {
      "needs_background": "light"
     },
     "output_type": "display_data"
    }
   ],
   "source": [
    "plt.clf()   # clear figure\n",
    "acc_values = history_dict['acc']\n",
    "val_acc_values = history_dict['val_acc']\n",
    "\n",
    "plt.plot(epochs, acc, 'bo', label='Training acc')\n",
    "plt.plot(epochs, val_acc, 'b', label='Validation acc')\n",
    "plt.title('Training and validation accuracy')\n",
    "plt.xlabel('Epochs')\n",
    "plt.ylabel('Loss')\n",
    "plt.legend()\n",
    "\n",
    "plt.show()"
   ]
  },
  {
   "cell_type": "code",
   "execution_count": 32,
   "metadata": {},
   "outputs": [
    {
     "name": "stdout",
     "output_type": "stream",
     "text": [
      "Train on 15000 samples, validate on 10000 samples\n",
      "Epoch 1/20\n",
      "15000/15000 [==============================] - 3s 197us/step - loss: 0.4986 - acc: 0.7878 - val_loss: 0.3870 - val_acc: 0.8686\n",
      "Epoch 2/20\n",
      "15000/15000 [==============================] - 2s 143us/step - loss: 0.3135 - acc: 0.9027 - val_loss: 0.3209 - val_acc: 0.8807\n",
      "Epoch 3/20\n",
      "15000/15000 [==============================] - 2s 139us/step - loss: 0.2419 - acc: 0.9247 - val_loss: 0.2912 - val_acc: 0.8881\n",
      "Epoch 4/20\n",
      "15000/15000 [==============================] - 2s 141us/step - loss: 0.1994 - acc: 0.9394 - val_loss: 0.2834 - val_acc: 0.8858\n",
      "Epoch 5/20\n",
      "15000/15000 [==============================] - 2s 147us/step - loss: 0.1675 - acc: 0.9498 - val_loss: 0.2790 - val_acc: 0.8875\n",
      "Epoch 6/20\n",
      "15000/15000 [==============================] - 2s 154us/step - loss: 0.1467 - acc: 0.9559 - val_loss: 0.2757 - val_acc: 0.8876\n",
      "Epoch 7/20\n",
      "15000/15000 [==============================] - 2s 154us/step - loss: 0.1271 - acc: 0.9630 - val_loss: 0.2915 - val_acc: 0.8857\n",
      "Epoch 8/20\n",
      "15000/15000 [==============================] - 2s 150us/step - loss: 0.1119 - acc: 0.9689 - val_loss: 0.2987 - val_acc: 0.8828\n",
      "Epoch 9/20\n",
      "15000/15000 [==============================] - 2s 141us/step - loss: 0.1005 - acc: 0.9725 - val_loss: 0.3235 - val_acc: 0.8787\n",
      "Epoch 10/20\n",
      "15000/15000 [==============================] - 2s 144us/step - loss: 0.0877 - acc: 0.9769 - val_loss: 0.3068 - val_acc: 0.8840\n",
      "Epoch 11/20\n",
      "15000/15000 [==============================] - 2s 150us/step - loss: 0.0779 - acc: 0.9814 - val_loss: 0.3197 - val_acc: 0.8832\n",
      "Epoch 12/20\n",
      "15000/15000 [==============================] - 3s 167us/step - loss: 0.0693 - acc: 0.9832 - val_loss: 0.3350 - val_acc: 0.8813\n",
      "Epoch 13/20\n",
      "15000/15000 [==============================] - 2s 159us/step - loss: 0.0612 - acc: 0.9861 - val_loss: 0.3487 - val_acc: 0.8794\n",
      "Epoch 14/20\n",
      "15000/15000 [==============================] - 2s 159us/step - loss: 0.0533 - acc: 0.9895 - val_loss: 0.3653 - val_acc: 0.8780\n",
      "Epoch 15/20\n",
      "15000/15000 [==============================] - 2s 159us/step - loss: 0.0476 - acc: 0.9906 - val_loss: 0.3821 - val_acc: 0.8746\n",
      "Epoch 16/20\n",
      "15000/15000 [==============================] - 2s 146us/step - loss: 0.0418 - acc: 0.9927 - val_loss: 0.3960 - val_acc: 0.8751\n",
      "Epoch 17/20\n",
      "15000/15000 [==============================] - 2s 140us/step - loss: 0.0365 - acc: 0.9941 - val_loss: 0.4120 - val_acc: 0.8742\n",
      "Epoch 18/20\n",
      "15000/15000 [==============================] - 2s 140us/step - loss: 0.0323 - acc: 0.9955 - val_loss: 0.4307 - val_acc: 0.8735\n",
      "Epoch 19/20\n",
      "15000/15000 [==============================] - 2s 140us/step - loss: 0.0283 - acc: 0.9958 - val_loss: 0.4478 - val_acc: 0.8711\n",
      "Epoch 20/20\n",
      "15000/15000 [==============================] - 2s 141us/step - loss: 0.0247 - acc: 0.9971 - val_loss: 0.4657 - val_acc: 0.8719\n"
     ]
    }
   ],
   "source": [
    "model1 = models.Sequential()\n",
    "model1.add(layers.Dense(16, activation='relu', input_shape=(10000,)))\n",
    "model2.add(layers.Dense(16, activation='relu'))\n",
    "model1.add(layers.Dense(1, activation='sigmoid'))\n",
    "\n",
    "model1.compile(optimizer='rmsprop',\n",
    "              loss='binary_crossentropy',\n",
    "              metrics=['accuracy'])\n",
    "\n",
    "x_val = x_train[:10000]\n",
    "partial_x_train = x_train[10000:]\n",
    "\n",
    "y_val = y_train[:10000]\n",
    "partial_y_train = y_train[10000:]\n",
    "\n",
    "history1 = model1.fit(partial_x_train,\n",
    "                    partial_y_train,\n",
    "                    epochs=20,\n",
    "                    batch_size=512,\n",
    "                    validation_data=(x_val, y_val))"
   ]
  },
  {
   "cell_type": "code",
   "execution_count": 33,
   "metadata": {},
   "outputs": [
    {
     "name": "stdout",
     "output_type": "stream",
     "text": [
      "Train on 15000 samples, validate on 10000 samples\n",
      "Epoch 1/20\n",
      "15000/15000 [==============================] - 3s 211us/step - loss: 0.4755 - acc: 0.7997 - val_loss: 0.3506 - val_acc: 0.8687\n",
      "Epoch 2/20\n",
      "15000/15000 [==============================] - 2s 156us/step - loss: 0.2718 - acc: 0.9026 - val_loss: 0.2943 - val_acc: 0.8844\n",
      "Epoch 3/20\n",
      "15000/15000 [==============================] - 3s 177us/step - loss: 0.1976 - acc: 0.9304 - val_loss: 0.3788 - val_acc: 0.8457\n",
      "Epoch 4/20\n",
      "15000/15000 [==============================] - 2s 163us/step - loss: 0.1585 - acc: 0.9469 - val_loss: 0.3445 - val_acc: 0.8662\n",
      "Epoch 5/20\n",
      "15000/15000 [==============================] - 2s 161us/step - loss: 0.1219 - acc: 0.9579 - val_loss: 0.2941 - val_acc: 0.8872\n",
      "Epoch 6/20\n",
      "15000/15000 [==============================] - 3s 181us/step - loss: 0.1002 - acc: 0.9662 - val_loss: 0.3426 - val_acc: 0.8806\n",
      "Epoch 7/20\n",
      "15000/15000 [==============================] - 3s 185us/step - loss: 0.0830 - acc: 0.9731 - val_loss: 0.3440 - val_acc: 0.8815\n",
      "Epoch 8/20\n",
      "15000/15000 [==============================] - 3s 169us/step - loss: 0.0613 - acc: 0.9820 - val_loss: 0.3755 - val_acc: 0.8788\n",
      "Epoch 9/20\n",
      "15000/15000 [==============================] - 3s 169us/step - loss: 0.0455 - acc: 0.9892 - val_loss: 0.4319 - val_acc: 0.8730\n",
      "Epoch 10/20\n",
      "15000/15000 [==============================] - 3s 175us/step - loss: 0.0418 - acc: 0.9883 - val_loss: 0.4377 - val_acc: 0.8783\n",
      "Epoch 11/20\n",
      "15000/15000 [==============================] - 3s 168us/step - loss: 0.0314 - acc: 0.9909 - val_loss: 0.4674 - val_acc: 0.8751\n",
      "Epoch 12/20\n",
      "15000/15000 [==============================] - 3s 177us/step - loss: 0.0143 - acc: 0.9984 - val_loss: 0.5598 - val_acc: 0.8685\n",
      "Epoch 13/20\n",
      "15000/15000 [==============================] - 3s 168us/step - loss: 0.0146 - acc: 0.9976 - val_loss: 0.5981 - val_acc: 0.8588\n",
      "Epoch 14/20\n",
      "15000/15000 [==============================] - 3s 174us/step - loss: 0.0114 - acc: 0.9985 - val_loss: 0.5763 - val_acc: 0.8719\n",
      "Epoch 15/20\n",
      "15000/15000 [==============================] - 3s 178us/step - loss: 0.0172 - acc: 0.9950 - val_loss: 0.6058 - val_acc: 0.8731\n",
      "Epoch 16/20\n",
      "15000/15000 [==============================] - 3s 179us/step - loss: 0.0032 - acc: 0.9999 - val_loss: 0.6395 - val_acc: 0.8703\n",
      "Epoch 17/20\n",
      "15000/15000 [==============================] - 3s 197us/step - loss: 0.0113 - acc: 0.9963 - val_loss: 0.6699 - val_acc: 0.8714\n",
      "Epoch 18/20\n",
      "15000/15000 [==============================] - 3s 180us/step - loss: 0.0016 - acc: 0.9999 - val_loss: 0.6988 - val_acc: 0.8694\n",
      "Epoch 19/20\n",
      "15000/15000 [==============================] - 3s 181us/step - loss: 0.0025 - acc: 0.9996 - val_loss: 0.9469 - val_acc: 0.8396\n",
      "Epoch 20/20\n",
      "15000/15000 [==============================] - 3s 171us/step - loss: 0.0034 - acc: 0.9991 - val_loss: 0.7641 - val_acc: 0.8687\n"
     ]
    }
   ],
   "source": [
    "model2 = models.Sequential()\n",
    "model2.add(layers.Dense(32, activation='relu', input_shape=(10000,)))\n",
    "model2.add(layers.Dense(32, activation='relu'))\n",
    "model2.add(layers.Dense(1, activation='sigmoid'))\n",
    "\n",
    "model2.compile(optimizer='rmsprop',\n",
    "              loss='binary_crossentropy',\n",
    "              metrics=['accuracy'])\n",
    "\n",
    "x_val = x_train[:10000]\n",
    "partial_x_train = x_train[10000:]\n",
    "\n",
    "y_val = y_train[:10000]\n",
    "partial_y_train = y_train[10000:]\n",
    "\n",
    "history2 = model2.fit(partial_x_train,\n",
    "                    partial_y_train,\n",
    "                    epochs=20,\n",
    "                    batch_size=512,\n",
    "                    validation_data=(x_val, y_val))"
   ]
  },
  {
   "cell_type": "code",
   "execution_count": 34,
   "metadata": {},
   "outputs": [
    {
     "name": "stdout",
     "output_type": "stream",
     "text": [
      "Train on 15000 samples, validate on 10000 samples\n",
      "Epoch 1/20\n",
      "15000/15000 [==============================] - 4s 235us/step - loss: 0.4877 - acc: 0.7703 - val_loss: 0.3442 - val_acc: 0.8585\n",
      "Epoch 2/20\n",
      "15000/15000 [==============================] - 3s 179us/step - loss: 0.2683 - acc: 0.8956 - val_loss: 0.3067 - val_acc: 0.8769\n",
      "Epoch 3/20\n",
      "15000/15000 [==============================] - 3s 204us/step - loss: 0.1827 - acc: 0.9327 - val_loss: 0.2984 - val_acc: 0.8813\n",
      "Epoch 4/20\n",
      "15000/15000 [==============================] - 3s 197us/step - loss: 0.1388 - acc: 0.9517 - val_loss: 0.3062 - val_acc: 0.8826\n",
      "Epoch 5/20\n",
      "15000/15000 [==============================] - 3s 209us/step - loss: 0.1103 - acc: 0.9621 - val_loss: 0.3479 - val_acc: 0.8728\n",
      "Epoch 6/20\n",
      "15000/15000 [==============================] - 3s 210us/step - loss: 0.0871 - acc: 0.9706 - val_loss: 0.3429 - val_acc: 0.8837\n",
      "Epoch 7/20\n",
      "15000/15000 [==============================] - 3s 210us/step - loss: 0.0580 - acc: 0.9805 - val_loss: 0.3772 - val_acc: 0.8804\n",
      "Epoch 8/20\n",
      "15000/15000 [==============================] - 4s 239us/step - loss: 0.0459 - acc: 0.9868 - val_loss: 0.4184 - val_acc: 0.8770\n",
      "Epoch 9/20\n",
      "15000/15000 [==============================] - 3s 201us/step - loss: 0.0520 - acc: 0.9851 - val_loss: 0.4471 - val_acc: 0.8781\n",
      "Epoch 10/20\n",
      "15000/15000 [==============================] - 3s 218us/step - loss: 0.0106 - acc: 0.9991 - val_loss: 0.5030 - val_acc: 0.8761\n",
      "Epoch 11/20\n",
      "15000/15000 [==============================] - 4s 242us/step - loss: 0.0382 - acc: 0.9905 - val_loss: 0.5226 - val_acc: 0.8769\n",
      "Epoch 12/20\n",
      "15000/15000 [==============================] - 3s 201us/step - loss: 0.0043 - acc: 0.9999 - val_loss: 0.5716 - val_acc: 0.8731\n",
      "Epoch 13/20\n",
      "15000/15000 [==============================] - 3s 207us/step - loss: 0.0309 - acc: 0.9917 - val_loss: 0.5913 - val_acc: 0.8714\n",
      "Epoch 14/20\n",
      "15000/15000 [==============================] - 3s 195us/step - loss: 0.0019 - acc: 0.9999 - val_loss: 0.6354 - val_acc: 0.8699\n",
      "Epoch 15/20\n",
      "15000/15000 [==============================] - 3s 219us/step - loss: 0.0012 - acc: 0.9999 - val_loss: 0.7011 - val_acc: 0.8683\n",
      "Epoch 16/20\n",
      "15000/15000 [==============================] - 3s 217us/step - loss: 0.0495 - acc: 0.9913 - val_loss: 0.7353 - val_acc: 0.8697\n",
      "Epoch 17/20\n",
      "15000/15000 [==============================] - 3s 213us/step - loss: 4.4382e-04 - acc: 1.0000 - val_loss: 0.7576 - val_acc: 0.8709\n",
      "Epoch 18/20\n",
      "15000/15000 [==============================] - 3s 228us/step - loss: 3.1416e-04 - acc: 1.0000 - val_loss: 0.7909 - val_acc: 0.8707\n",
      "Epoch 19/20\n",
      "15000/15000 [==============================] - 3s 211us/step - loss: 2.0492e-04 - acc: 1.0000 - val_loss: 0.8468 - val_acc: 0.8704\n",
      "Epoch 20/20\n",
      "15000/15000 [==============================] - 3s 226us/step - loss: 0.0387 - acc: 0.9923 - val_loss: 0.8828 - val_acc: 0.8695\n"
     ]
    }
   ],
   "source": [
    "model4 = models.Sequential()\n",
    "model4.add(layers.Dense(64, activation='relu', input_shape=(10000,)))\n",
    "model4.add(layers.Dense(64, activation='relu'))\n",
    "model4.add(layers.Dense(1, activation='sigmoid'))\n",
    "\n",
    "model4.compile(optimizer='rmsprop',\n",
    "              loss='binary_crossentropy',\n",
    "              metrics=['accuracy'])\n",
    "\n",
    "x_val = x_train[:10000]\n",
    "partial_x_train = x_train[10000:]\n",
    "\n",
    "y_val = y_train[:10000]\n",
    "partial_y_train = y_train[10000:]\n",
    "\n",
    "history4 = model4.fit(partial_x_train,\n",
    "                    partial_y_train,\n",
    "                    epochs=20,\n",
    "                    batch_size=512,\n",
    "                    validation_data=(x_val, y_val))"
   ]
  },
  {
   "cell_type": "code",
   "execution_count": 35,
   "metadata": {},
   "outputs": [
    {
     "data": {
      "image/png": "[encoded data removed]",
      "text/plain": [
       "<Figure size 432x288 with 1 Axes>"
      ]
     },
     "metadata": {
      "needs_background": "light"
     },
     "output_type": "display_data"
    }
   ],
   "source": [
    "history_dict1 = history1.history\n",
    "history_dict1.keys()\n",
    "history_dict2 = history2.history\n",
    "history_dict2.keys()\n",
    "history_dict4 = history4.history\n",
    "history_dict4.keys()\n",
    "\n",
    "\n",
    "plt.clf()   # clear figure\n",
    "acc_values1 = history_dict1['acc']\n",
    "acc_values2 = history_dict2['acc']\n",
    "acc_values4 = history_dict4['acc']\n",
    "\n",
    "\n",
    "epochs = range(1, len(acc_values1) + 1)\n",
    "\n",
    "\n",
    "plt.plot(epochs, acc_values1, 'b', label='ACC 16 Units')\n",
    "plt.plot(epochs, acc_valuesa2, 'r', label='ACC 32 Units')\n",
    "plt.plot(epochs, acc_values4, 'g', label='ACC 64 Units')\n",
    "\n",
    "plt.title('Training Accuracy')\n",
    "plt.xlabel('Epochs')\n",
    "plt.ylabel('Accuracy')\n",
    "plt.legend()\n",
    "\n",
    "plt.show()"
   ]
  },
  {
   "cell_type": "code",
   "execution_count": null,
   "metadata": {},
   "outputs": [],
   "source": []
  }
 ],
 "metadata": {
  "kernelspec": {
   "display_name": "Python 3",
   "language": "python",
   "name": "python3"
  },
  "language_info": {
   "codemirror_mode": {
    "name": "ipython",
    "version": 3
   },
   "file_extension": ".py",
   "mimetype": "text/x-python",
   "name": "python",
   "nbconvert_exporter": "python",
   "pygments_lexer": "ipython3",
   "version": "3.6.10"
  }
 },
 "nbformat": 4,
 "nbformat_minor": 4
}
