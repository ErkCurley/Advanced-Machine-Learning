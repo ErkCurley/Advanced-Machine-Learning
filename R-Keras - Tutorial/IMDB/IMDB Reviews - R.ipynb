{
 "cells": [
  {
   "cell_type": "code",
   "execution_count": 1,
   "metadata": {},
   "outputs": [],
   "source": [
    "library(keras)\n",
    "imdb <- dataset_imdb(num_words = 10000)"
   ]
  },
  {
   "cell_type": "markdown",
   "metadata": {},
   "source": [
    "imdb dataset is included in the Keras Library"
   ]
  },
  {
   "cell_type": "code",
   "execution_count": 2,
   "metadata": {},
   "outputs": [],
   "source": [
    "c(c(train_data,train_labels), c(test_data, test_labels)) %<-% imdb"
   ]
  },
  {
   "cell_type": "code",
   "execution_count": 4,
   "metadata": {},
   "outputs": [
    {
     "name": "stdout",
     "output_type": "stream",
     "text": [
      " int [1:218] 1 14 22 16 43 530 973 1622 1385 65 ...\n"
     ]
    }
   ],
   "source": [
    "str(train_data[[1]])"
   ]
  },
  {
   "cell_type": "code",
   "execution_count": 5,
   "metadata": {},
   "outputs": [
    {
     "data": {
      "text/html": [
       "1"
      ],
      "text/latex": [
       "1"
      ],
      "text/markdown": [
       "1"
      ],
      "text/plain": [
       "[1] 1"
      ]
     },
     "metadata": {},
     "output_type": "display_data"
    }
   ],
   "source": [
    "train_labels[[1]]"
   ]
  },
  {
   "cell_type": "code",
   "execution_count": 6,
   "metadata": {},
   "outputs": [
    {
     "data": {
      "text/html": [
       "9999"
      ],
      "text/latex": [
       "9999"
      ],
      "text/markdown": [
       "9999"
      ],
      "text/plain": [
       "[1] 9999"
      ]
     },
     "metadata": {},
     "output_type": "display_data"
    }
   ],
   "source": [
    "max(sapply(train_data, max))"
   ]
  },
  {
   "cell_type": "code",
   "execution_count": 26,
   "metadata": {},
   "outputs": [],
   "source": [
    "word_index <- dataset_imdb_word_index()"
   ]
  },
  {
   "cell_type": "code",
   "execution_count": 27,
   "metadata": {},
   "outputs": [],
   "source": [
    "reverse_word_index <- names(word_index)\n",
    "names(reverse_word_index) <- word_index"
   ]
  },
  {
   "cell_type": "code",
   "execution_count": 28,
   "metadata": {},
   "outputs": [],
   "source": [
    "decoded_review <- sapply(train_data[[1]], function(index) {\n",
    "  word <- if (index >= 3) reverse_word_index[[as.character(index - 3)]]\n",
    "  if (!is.null(word)) word else \"?\"\n",
    "})"
   ]
  },
  {
   "cell_type": "code",
   "execution_count": 29,
   "metadata": {},
   "outputs": [
    {
     "name": "stdout",
     "output_type": "stream",
     "text": [
      "? this film was just brilliant casting location scenery story direction everyone's really suited the part they played and you could just imagine being there robert ? is an amazing actor and now the same being director ? father came from the same scottish island as myself so i loved the fact there was a real connection with this film the witty remarks throughout the film were great it was just brilliant so much that i bought the film as soon as it was released for ? and would recommend it to everyone to watch and the fly fishing was amazing really cried at the end it was so sad and you know what they say if you cry at a film it must have been good and this definitely was also ? to the two little boy's that played the ? of norman and paul they were just brilliant children are often left out of the ? list i think because the stars that play them all grown up are such a big profile for the whole film but these children are amazing and should be praised for what they have done don't you think the whole story was so lovely because it was true and was someone's life after all that was shared with us all"
     ]
    }
   ],
   "source": [
    "cat(decoded_review)"
   ]
  },
  {
   "cell_type": "code",
   "execution_count": 67,
   "metadata": {},
   "outputs": [],
   "source": [
    "vectorize_sequences <- function(sequences, dimension = 10000) {\n",
    "  # Create an all-zero matrix of shape (len(sequences), dimension)\n",
    "  results <- matrix(0, nrow = length(sequences), ncol = dimension)\n",
    "  for (i in 1:length(sequences))\n",
    "    # Sets specific indices of results[i] to 1s\n",
    "    results[i, sequences[[i]]] <- 1\n",
    "  results\n",
    "}"
   ]
  },
  {
   "cell_type": "markdown",
   "metadata": {},
   "source": [
    "This converts the text reviews words into an array of digits representing the top 10,000 words\n",
    "Each review becomes an array of 10,000 elements which contain 0 or 1 for the coresponding digits in the dictionary"
   ]
  },
  {
   "cell_type": "code",
   "execution_count": 68,
   "metadata": {},
   "outputs": [],
   "source": [
    "x_train <- vectorize_sequences(train_data)\n",
    "x_test <- vectorize_sequences(test_data)"
   ]
  },
  {
   "cell_type": "code",
   "execution_count": 69,
   "metadata": {},
   "outputs": [],
   "source": [
    "y_train <- as.numeric(train_labels)\n",
    "y_test <- as.numeric(test_labels)"
   ]
  },
  {
   "cell_type": "code",
   "execution_count": 70,
   "metadata": {},
   "outputs": [
    {
     "name": "stdout",
     "output_type": "stream",
     "text": [
      " num [1:10000] 1 1 0 1 1 1 1 1 1 0 ...\n"
     ]
    }
   ],
   "source": [
    "str(x_train[1,])"
   ]
  },
  {
   "cell_type": "code",
   "execution_count": 34,
   "metadata": {},
   "outputs": [],
   "source": [
    "model <- keras_model_sequential() %>%\n",
    "  layer_dense(units = 16, activation = \"relu\", input_shape = c(10000)) %>%\n",
    "  layer_dense(units = 16, activation = \"relu\") %>%\n",
    "  layer_dense(units = 1, activation = \"sigmoid\")"
   ]
  },
  {
   "cell_type": "code",
   "execution_count": 59,
   "metadata": {},
   "outputs": [],
   "source": [
    "val_indices <- 1:10000"
   ]
  },
  {
   "cell_type": "code",
   "execution_count": 60,
   "metadata": {},
   "outputs": [],
   "source": [
    "x_val <- x_train[val_indices,]\n",
    "partial_x_train <- x_train[-val_indices,]"
   ]
  },
  {
   "cell_type": "code",
   "execution_count": 71,
   "metadata": {},
   "outputs": [
    {
     "data": {
      "text/html": [
       "100000000"
      ],
      "text/latex": [
       "100000000"
      ],
      "text/markdown": [
       "100000000"
      ],
      "text/plain": [
       "[1] 100000000"
      ]
     },
     "metadata": {},
     "output_type": "display_data"
    },
    {
     "data": {
      "text/html": [
       "10000"
      ],
      "text/latex": [
       "10000"
      ],
      "text/markdown": [
       "10000"
      ],
      "text/plain": [
       "[1] 10000"
      ]
     },
     "metadata": {},
     "output_type": "display_data"
    },
    {
     "data": {
      "text/html": [
       "150000000"
      ],
      "text/latex": [
       "150000000"
      ],
      "text/markdown": [
       "150000000"
      ],
      "text/plain": [
       "[1] 150000000"
      ]
     },
     "metadata": {},
     "output_type": "display_data"
    },
    {
     "data": {
      "text/html": [
       "90000"
      ],
      "text/latex": [
       "90000"
      ],
      "text/markdown": [
       "90000"
      ],
      "text/plain": [
       "[1] 90000"
      ]
     },
     "metadata": {},
     "output_type": "display_data"
    }
   ],
   "source": [
    "length(x_val)\n",
    "length(y_val)\n",
    "\n",
    "length(partial_x_train)\n",
    "length(partial_y_train)"
   ]
  },
  {
   "cell_type": "code",
   "execution_count": 57,
   "metadata": {},
   "outputs": [],
   "source": [
    "y_val <- y_train[val_indices]\n",
    "partial_y_train <- y_train[-val_indices]"
   ]
  },
  {
   "cell_type": "code",
   "execution_count": 43,
   "metadata": {},
   "outputs": [],
   "source": [
    "model %>% compile(\n",
    "  optimizer = \"rmsprop\",\n",
    "  loss = \"binary_crossentropy\",\n",
    "  metrics = c(\"accuracy\")\n",
    ")"
   ]
  },
  {
   "cell_type": "code",
   "execution_count": 58,
   "metadata": {},
   "outputs": [
    {
     "ename": "ERROR",
     "evalue": "Error in py_call_impl(callable, dots$args, dots$keywords): ValueError: Input arrays should have the same number of samples as target arrays. Found 15000 input samples and 90000 target samples.\n\nDetailed traceback: \n  File \"C:\\Users\\EricC\\ANACON~1\\envs\\R-Keras\\lib\\site-packages\\tensorflow_core\\python\\keras\\engine\\training.py\", line 727, in fit\n    use_multiprocessing=use_multiprocessing)\n  File \"C:\\Users\\EricC\\ANACON~1\\envs\\R-Keras\\lib\\site-packages\\tensorflow_core\\python\\keras\\engine\\training_arrays.py\", line 643, in fit\n    shuffle=shuffle)\n  File \"C:\\Users\\EricC\\ANACON~1\\envs\\R-Keras\\lib\\site-packages\\tensorflow_core\\python\\keras\\engine\\training.py\", line 2533, in _standardize_user_data\n    training_utils.check_array_lengths(x, y, sample_weights)\n  File \"C:\\Users\\EricC\\ANACON~1\\envs\\R-Keras\\lib\\site-packages\\tensorflow_core\\python\\keras\\engine\\training_utils.py\", line 675, in check_array_lengths\n    'and ' + str(list(set_y)[0]) + ' target samples.')\n\n",
     "output_type": "error",
     "traceback": [
      "Error in py_call_impl(callable, dots$args, dots$keywords): ValueError: Input arrays should have the same number of samples as target arrays. Found 15000 input samples and 90000 target samples.\n\nDetailed traceback: \n  File \"C:\\Users\\EricC\\ANACON~1\\envs\\R-Keras\\lib\\site-packages\\tensorflow_core\\python\\keras\\engine\\training.py\", line 727, in fit\n    use_multiprocessing=use_multiprocessing)\n  File \"C:\\Users\\EricC\\ANACON~1\\envs\\R-Keras\\lib\\site-packages\\tensorflow_core\\python\\keras\\engine\\training_arrays.py\", line 643, in fit\n    shuffle=shuffle)\n  File \"C:\\Users\\EricC\\ANACON~1\\envs\\R-Keras\\lib\\site-packages\\tensorflow_core\\python\\keras\\engine\\training.py\", line 2533, in _standardize_user_data\n    training_utils.check_array_lengths(x, y, sample_weights)\n  File \"C:\\Users\\EricC\\ANACON~1\\envs\\R-Keras\\lib\\site-packages\\tensorflow_core\\python\\keras\\engine\\training_utils.py\", line 675, in check_array_lengths\n    'and ' + str(list(set_y)[0]) + ' target samples.')\n\nTraceback:\n",
      "1. model %>% fit(partial_x_train, partial_y_train, epochs = 20, \n .     batch_size = 512, validation_data = list(x_val, y_val))",
      "2. withVisible(eval(quote(`_fseq`(`_lhs`)), env, env))",
      "3. eval(quote(`_fseq`(`_lhs`)), env, env)",
      "4. eval(quote(`_fseq`(`_lhs`)), env, env)",
      "5. `_fseq`(`_lhs`)",
      "6. freduce(value, `_function_list`)",
      "7. withVisible(function_list[[k]](value))",
      "8. function_list[[k]](value)",
      "9. fit(., partial_x_train, partial_y_train, epochs = 20, batch_size = 512, \n .     validation_data = list(x_val, y_val))",
      "10. fit.keras.engine.training.Model(., partial_x_train, partial_y_train, \n  .     epochs = 20, batch_size = 512, validation_data = list(x_val, \n  .         y_val))",
      "11. do.call(object$fit, args)",
      "12. (structure(function (...) \n  . {\n  .     dots <- py_resolve_dots(list(...))\n  .     result <- py_call_impl(callable, dots$args, dots$keywords)\n  .     if (convert) {\n  .         result <- py_to_r(result)\n  .         if (is.null(result)) \n  .             invisible(result)\n  .         else result\n  .     }\n  .     else {\n  .         result\n  .     }\n  . }, class = c(\"python.builtin.method\", \"python.builtin.object\"\n  . ), py_object = <environment>))(batch_size = 512L, epochs = 20L, \n  .     verbose = 1L, callbacks = list(<environment>), validation_split = 0, \n  .     shuffle = TRUE, class_weight = NULL, sample_weight = NULL, \n  .     initial_epoch = 0L, validation_data = list(<environment>, \n  .         <environment>), x = <environment>, y = <environment>)",
      "13. py_call_impl(callable, dots$args, dots$keywords)"
     ]
    }
   ],
   "source": [
    "history <- model %>% fit(\n",
    "  partial_x_train,\n",
    "  partial_y_train,\n",
    "  epochs = 20,\n",
    "  batch_size = 512,\n",
    "  validation_data = list(x_val, y_val)\n",
    ")"
   ]
  },
  {
   "cell_type": "code",
   "execution_count": null,
   "metadata": {},
   "outputs": [],
   "source": []
  }
 ],
 "metadata": {
  "kernelspec": {
   "display_name": "Python 3",
   "language": "python",
   "name": "python3"
  },
  "language_info": {
   "codemirror_mode": {
    "name": "ipython",
    "version": 3
   },
   "file_extension": ".py",
   "mimetype": "text/x-python",
   "name": "python",
   "nbconvert_exporter": "python",
   "pygments_lexer": "ipython3",
   "version": "3.7.6"
  }
 },
 "nbformat": 4,
 "nbformat_minor": 4
}
