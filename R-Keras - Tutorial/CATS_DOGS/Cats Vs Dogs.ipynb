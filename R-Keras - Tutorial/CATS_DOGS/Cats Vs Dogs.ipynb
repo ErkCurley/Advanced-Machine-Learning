{
 "cells": [
  {
   "cell_type": "code",
   "execution_count": 12,
   "metadata": {},
   "outputs": [],
   "source": [
    "import keras\n",
    "import os, shutil\n",
    "import PIL as PIL\n",
    "from keras import layers\n",
    "from keras import models\n",
    "from keras import optimizers\n",
    "from keras.preprocessing.image import ImageDataGenerator\n",
    "from PIL import Image\n",
    "import matplotlib.pyplot as plt"
   ]
  },
  {
   "cell_type": "code",
   "execution_count": 2,
   "metadata": {},
   "outputs": [],
   "source": [
    "base_dir = 'Data/cats_and_dogs_small'\n",
    "train_dir = os.path.join(base_dir, 'train')\n",
    "validation_dir = os.path.join(base_dir, 'validation')\n",
    "test_dir = os.path.join(base_dir, 'test')\n",
    "\n"
   ]
  },
  {
   "cell_type": "code",
   "execution_count": 3,
   "metadata": {},
   "outputs": [],
   "source": [
    "train_dogs_dir = os.path.join(train_dir, 'dogs')\n",
    "train_cats_dir = os.path.join(train_dir, 'cats')\n",
    "validation_cats_dir = os.path.join(validation_dir, 'cats')\n",
    "validation_dogs_dir = os.path.join(validation_dir, 'dogs')\n",
    "test_cats_dir = os.path.join(test_dir, 'cats')\n",
    "test_dogs_dir = os.path.join(test_dir, 'dogs')\n"
   ]
  },
  {
   "cell_type": "code",
   "execution_count": 4,
   "metadata": {},
   "outputs": [
    {
     "name": "stdout",
     "output_type": "stream",
     "text": [
      "total training cat images: 1000\n",
      "total training dog images: 1000\n",
      "total validation cat images: 500\n",
      "total validation dog images: 500\n",
      "total test cat images: 481\n"
     ]
    }
   ],
   "source": [
    "print('total training cat images:', len(os.listdir(train_cats_dir)))\n",
    "print('total training dog images:', len(os.listdir(train_dogs_dir)))\n",
    "print('total validation cat images:', len(os.listdir(validation_cats_dir)))\n",
    "print('total validation dog images:', len(os.listdir(validation_dogs_dir)))\n",
    "print('total test cat images:', len(os.listdir(test_cats_dir)))\n",
    "\n"
   ]
  },
  {
   "cell_type": "code",
   "execution_count": 5,
   "metadata": {},
   "outputs": [
    {
     "name": "stdout",
     "output_type": "stream",
     "text": [
      "WARNING:tensorflow:From C:\\Users\\EricC\\Anaconda3\\envs\\R-Keras\\lib\\site-packages\\keras\\backend\\tensorflow_backend.py:74: The name tf.get_default_graph is deprecated. Please use tf.compat.v1.get_default_graph instead.\n",
      "\n",
      "WARNING:tensorflow:From C:\\Users\\EricC\\Anaconda3\\envs\\R-Keras\\lib\\site-packages\\keras\\backend\\tensorflow_backend.py:517: The name tf.placeholder is deprecated. Please use tf.compat.v1.placeholder instead.\n",
      "\n",
      "WARNING:tensorflow:From C:\\Users\\EricC\\Anaconda3\\envs\\R-Keras\\lib\\site-packages\\keras\\backend\\tensorflow_backend.py:4138: The name tf.random_uniform is deprecated. Please use tf.random.uniform instead.\n",
      "\n",
      "WARNING:tensorflow:From C:\\Users\\EricC\\Anaconda3\\envs\\R-Keras\\lib\\site-packages\\keras\\backend\\tensorflow_backend.py:3976: The name tf.nn.max_pool is deprecated. Please use tf.nn.max_pool2d instead.\n",
      "\n"
     ]
    }
   ],
   "source": [
    "model = models.Sequential()\n",
    "model.add(layers.Conv2D(32, (3, 3), activation='relu',\n",
    "                        input_shape=(150, 150, 3)))\n",
    "model.add(layers.MaxPooling2D((2, 2)))\n",
    "model.add(layers.Conv2D(64, (3, 3), activation='relu'))\n",
    "model.add(layers.MaxPooling2D((2, 2)))\n",
    "model.add(layers.Conv2D(128, (3, 3), activation='relu'))\n",
    "model.add(layers.MaxPooling2D((2, 2)))\n",
    "model.add(layers.Conv2D(128, (3, 3), activation='relu'))\n",
    "model.add(layers.MaxPooling2D((2, 2)))\n",
    "model.add(layers.Flatten())\n",
    "model.add(layers.Dense(512, activation='relu'))\n",
    "model.add(layers.Dense(1, activation='sigmoid'))"
   ]
  },
  {
   "cell_type": "code",
   "execution_count": 6,
   "metadata": {},
   "outputs": [
    {
     "name": "stdout",
     "output_type": "stream",
     "text": [
      "_________________________________________________________________\n",
      "Layer (type)                 Output Shape              Param #   \n",
      "=================================================================\n",
      "conv2d_1 (Conv2D)            (None, 148, 148, 32)      896       \n",
      "_________________________________________________________________\n",
      "max_pooling2d_1 (MaxPooling2 (None, 74, 74, 32)        0         \n",
      "_________________________________________________________________\n",
      "conv2d_2 (Conv2D)            (None, 72, 72, 64)        18496     \n",
      "_________________________________________________________________\n",
      "max_pooling2d_2 (MaxPooling2 (None, 36, 36, 64)        0         \n",
      "_________________________________________________________________\n",
      "conv2d_3 (Conv2D)            (None, 34, 34, 128)       73856     \n",
      "_________________________________________________________________\n",
      "max_pooling2d_3 (MaxPooling2 (None, 17, 17, 128)       0         \n",
      "_________________________________________________________________\n",
      "conv2d_4 (Conv2D)            (None, 15, 15, 128)       147584    \n",
      "_________________________________________________________________\n",
      "max_pooling2d_4 (MaxPooling2 (None, 7, 7, 128)         0         \n",
      "_________________________________________________________________\n",
      "flatten_1 (Flatten)          (None, 6272)              0         \n",
      "_________________________________________________________________\n",
      "dense_1 (Dense)              (None, 512)               3211776   \n",
      "_________________________________________________________________\n",
      "dense_2 (Dense)              (None, 1)                 513       \n",
      "=================================================================\n",
      "Total params: 3,453,121\n",
      "Trainable params: 3,453,121\n",
      "Non-trainable params: 0\n",
      "_________________________________________________________________\n"
     ]
    }
   ],
   "source": [
    "model.summary()\n"
   ]
  },
  {
   "cell_type": "code",
   "execution_count": 7,
   "metadata": {},
   "outputs": [
    {
     "name": "stdout",
     "output_type": "stream",
     "text": [
      "WARNING:tensorflow:From C:\\Users\\EricC\\Anaconda3\\envs\\R-Keras\\lib\\site-packages\\keras\\optimizers.py:790: The name tf.train.Optimizer is deprecated. Please use tf.compat.v1.train.Optimizer instead.\n",
      "\n",
      "WARNING:tensorflow:From C:\\Users\\EricC\\Anaconda3\\envs\\R-Keras\\lib\\site-packages\\keras\\backend\\tensorflow_backend.py:3376: The name tf.log is deprecated. Please use tf.math.log instead.\n",
      "\n",
      "WARNING:tensorflow:From C:\\Users\\EricC\\Anaconda3\\envs\\R-Keras\\lib\\site-packages\\tensorflow_core\\python\\ops\\nn_impl.py:183: where (from tensorflow.python.ops.array_ops) is deprecated and will be removed in a future version.\n",
      "Instructions for updating:\n",
      "Use tf.where in 2.0, which has the same broadcast rule as np.where\n"
     ]
    }
   ],
   "source": [
    "model.compile(loss='binary_crossentropy',\n",
    "              optimizer=optimizers.RMSprop(lr=1e-4),\n",
    "              metrics=['acc'])"
   ]
  },
  {
   "cell_type": "code",
   "execution_count": 8,
   "metadata": {},
   "outputs": [
    {
     "name": "stdout",
     "output_type": "stream",
     "text": [
      "Found 2000 images belonging to 2 classes.\n",
      "Found 1000 images belonging to 2 classes.\n"
     ]
    }
   ],
   "source": [
    "train_datagen = ImageDataGenerator(rescale=1./255)\n",
    "test_datagen = ImageDataGenerator(rescale=1./255)\n",
    "\n",
    "train_generator = train_datagen.flow_from_directory(\n",
    "        # This is the target directory\n",
    "        train_dir,\n",
    "        # All images will be resized to 150x150\n",
    "        target_size=(150, 150),\n",
    "        batch_size=20,\n",
    "        # Since we use binary_crossentropy loss, we need binary labels\n",
    "        class_mode='binary')\n",
    "\n",
    "validation_generator = test_datagen.flow_from_directory(\n",
    "        validation_dir,\n",
    "        target_size=(150, 150),\n",
    "        batch_size=20,\n",
    "        class_mode='binary')"
   ]
  },
  {
   "cell_type": "code",
   "execution_count": 9,
   "metadata": {},
   "outputs": [
    {
     "name": "stdout",
     "output_type": "stream",
     "text": [
      "data batch shape: (20, 150, 150, 3)\n",
      "labels batch shape: (20,)\n"
     ]
    }
   ],
   "source": [
    "for data_batch, labels_batch in train_generator:\n",
    "    print('data batch shape:', data_batch.shape)\n",
    "    print('labels batch shape:', labels_batch.shape)\n",
    "    break"
   ]
  },
  {
   "cell_type": "code",
   "execution_count": 10,
   "metadata": {},
   "outputs": [
    {
     "name": "stdout",
     "output_type": "stream",
     "text": [
      "WARNING:tensorflow:From C:\\Users\\EricC\\Anaconda3\\envs\\R-Keras\\lib\\site-packages\\keras\\backend\\tensorflow_backend.py:986: The name tf.assign_add is deprecated. Please use tf.compat.v1.assign_add instead.\n",
      "\n",
      "WARNING:tensorflow:From C:\\Users\\EricC\\Anaconda3\\envs\\R-Keras\\lib\\site-packages\\keras\\backend\\tensorflow_backend.py:973: The name tf.assign is deprecated. Please use tf.compat.v1.assign instead.\n",
      "\n",
      "WARNING:tensorflow:From C:\\Users\\EricC\\Anaconda3\\envs\\R-Keras\\lib\\site-packages\\keras\\backend\\tensorflow_backend.py:2741: The name tf.Session is deprecated. Please use tf.compat.v1.Session instead.\n",
      "\n",
      "Epoch 1/30\n",
      "WARNING:tensorflow:From C:\\Users\\EricC\\Anaconda3\\envs\\R-Keras\\lib\\site-packages\\keras\\backend\\tensorflow_backend.py:174: The name tf.get_default_session is deprecated. Please use tf.compat.v1.get_default_session instead.\n",
      "\n",
      "WARNING:tensorflow:From C:\\Users\\EricC\\Anaconda3\\envs\\R-Keras\\lib\\site-packages\\keras\\backend\\tensorflow_backend.py:181: The name tf.ConfigProto is deprecated. Please use tf.compat.v1.ConfigProto instead.\n",
      "\n",
      "WARNING:tensorflow:From C:\\Users\\EricC\\Anaconda3\\envs\\R-Keras\\lib\\site-packages\\keras\\backend\\tensorflow_backend.py:190: The name tf.global_variables is deprecated. Please use tf.compat.v1.global_variables instead.\n",
      "\n",
      "WARNING:tensorflow:From C:\\Users\\EricC\\Anaconda3\\envs\\R-Keras\\lib\\site-packages\\keras\\backend\\tensorflow_backend.py:199: The name tf.is_variable_initialized is deprecated. Please use tf.compat.v1.is_variable_initialized instead.\n",
      "\n",
      "WARNING:tensorflow:From C:\\Users\\EricC\\Anaconda3\\envs\\R-Keras\\lib\\site-packages\\keras\\backend\\tensorflow_backend.py:206: The name tf.variables_initializer is deprecated. Please use tf.compat.v1.variables_initializer instead.\n",
      "\n",
      "100/100 [==============================] - 59s 589ms/step - loss: 0.6885 - acc: 0.5305 - val_loss: 0.6729 - val_acc: 0.6030\n",
      "Epoch 2/30\n",
      "100/100 [==============================] - 60s 603ms/step - loss: 0.6582 - acc: 0.6085 - val_loss: 0.6399 - val_acc: 0.6350\n",
      "Epoch 3/30\n",
      "100/100 [==============================] - 66s 659ms/step - loss: 0.6023 - acc: 0.6840 - val_loss: 0.6072 - val_acc: 0.6520\n",
      "Epoch 4/30\n",
      "100/100 [==============================] - 65s 648ms/step - loss: 0.5646 - acc: 0.7065 - val_loss: 0.6248 - val_acc: 0.6450\n",
      "Epoch 5/30\n",
      "100/100 [==============================] - 65s 649ms/step - loss: 0.5354 - acc: 0.7350 - val_loss: 0.6576 - val_acc: 0.6280\n",
      "Epoch 6/30\n",
      "100/100 [==============================] - 62s 624ms/step - loss: 0.5019 - acc: 0.7525 - val_loss: 0.5797 - val_acc: 0.6880\n",
      "Epoch 7/30\n",
      "100/100 [==============================] - 62s 617ms/step - loss: 0.4875 - acc: 0.7640 - val_loss: 0.5551 - val_acc: 0.7170\n",
      "Epoch 8/30\n",
      "100/100 [==============================] - 66s 662ms/step - loss: 0.4618 - acc: 0.7865 - val_loss: 0.5868 - val_acc: 0.6900\n",
      "Epoch 9/30\n",
      "100/100 [==============================] - 63s 627ms/step - loss: 0.4401 - acc: 0.7935 - val_loss: 0.5574 - val_acc: 0.7150\n",
      "Epoch 10/30\n",
      "100/100 [==============================] - 63s 631ms/step - loss: 0.4164 - acc: 0.8025 - val_loss: 0.5840 - val_acc: 0.7000\n",
      "Epoch 11/30\n",
      "100/100 [==============================] - 63s 633ms/step - loss: 0.3813 - acc: 0.8370 - val_loss: 0.6153 - val_acc: 0.6960\n",
      "Epoch 12/30\n",
      "100/100 [==============================] - 62s 624ms/step - loss: 0.3759 - acc: 0.8315 - val_loss: 0.5446 - val_acc: 0.7380\n",
      "Epoch 13/30\n",
      "100/100 [==============================] - 61s 610ms/step - loss: 0.3506 - acc: 0.8440 - val_loss: 0.5359 - val_acc: 0.7360\n",
      "Epoch 14/30\n",
      "100/100 [==============================] - 61s 605ms/step - loss: 0.3272 - acc: 0.8615 - val_loss: 0.5783 - val_acc: 0.7230\n",
      "Epoch 15/30\n",
      "100/100 [==============================] - 61s 610ms/step - loss: 0.3113 - acc: 0.8750 - val_loss: 0.5723 - val_acc: 0.7370\n",
      "Epoch 16/30\n",
      "100/100 [==============================] - 62s 624ms/step - loss: 0.2847 - acc: 0.8835 - val_loss: 0.6310 - val_acc: 0.7200\n",
      "Epoch 17/30\n",
      "100/100 [==============================] - 62s 624ms/step - loss: 0.2646 - acc: 0.8955 - val_loss: 0.5973 - val_acc: 0.7460\n",
      "Epoch 18/30\n",
      "100/100 [==============================] - 171s 2s/step - loss: 0.2458 - acc: 0.9130 - val_loss: 0.5977 - val_acc: 0.7350\n",
      "Epoch 19/30\n",
      "100/100 [==============================] - 70s 699ms/step - loss: 0.2252 - acc: 0.9190 - val_loss: 0.6118 - val_acc: 0.7430\n",
      "Epoch 20/30\n",
      "100/100 [==============================] - 76s 759ms/step - loss: 0.2032 - acc: 0.9240 - val_loss: 0.6057 - val_acc: 0.7520\n",
      "Epoch 21/30\n",
      "100/100 [==============================] - 68s 682ms/step - loss: 0.1824 - acc: 0.9390 - val_loss: 0.6573 - val_acc: 0.7340\n",
      "Epoch 22/30\n",
      "100/100 [==============================] - 62s 622ms/step - loss: 0.1658 - acc: 0.9400 - val_loss: 0.6469 - val_acc: 0.7420\n",
      "Epoch 23/30\n",
      "100/100 [==============================] - 60s 604ms/step - loss: 0.1435 - acc: 0.9535 - val_loss: 0.7862 - val_acc: 0.7180\n",
      "Epoch 24/30\n",
      "100/100 [==============================] - 62s 619ms/step - loss: 0.1335 - acc: 0.9535 - val_loss: 0.7427 - val_acc: 0.7370\n",
      "Epoch 25/30\n",
      "100/100 [==============================] - 4310s 43s/step - loss: 0.1237 - acc: 0.9580 - val_loss: 0.7807 - val_acc: 0.7350\n",
      "Epoch 26/30\n",
      "100/100 [==============================] - 49s 486ms/step - loss: 0.1040 - acc: 0.9690 - val_loss: 0.7271 - val_acc: 0.7370\n",
      "Epoch 27/30\n",
      "100/100 [==============================] - 44s 444ms/step - loss: 0.0890 - acc: 0.9710 - val_loss: 0.7758 - val_acc: 0.7470\n",
      "Epoch 28/30\n",
      "100/100 [==============================] - 46s 461ms/step - loss: 0.0817 - acc: 0.9720 - val_loss: 0.9022 - val_acc: 0.7230\n",
      "Epoch 29/30\n",
      "100/100 [==============================] - 48s 475ms/step - loss: 0.0663 - acc: 0.9795 - val_loss: 0.8434 - val_acc: 0.7470\n",
      "Epoch 30/30\n",
      "100/100 [==============================] - 54s 538ms/step - loss: 0.0576 - acc: 0.9850 - val_loss: 0.8818 - val_acc: 0.7360\n"
     ]
    }
   ],
   "source": [
    "history = model.fit_generator(\n",
    "      train_generator,\n",
    "      steps_per_epoch=100,\n",
    "      epochs=30,\n",
    "      validation_data=validation_generator,\n",
    "      validation_steps=50)"
   ]
  },
  {
   "cell_type": "code",
   "execution_count": 11,
   "metadata": {},
   "outputs": [],
   "source": [
    "model.save('cats_and_dogs_small_1.h5')"
   ]
  },
  {
   "cell_type": "code",
   "execution_count": 13,
   "metadata": {},
   "outputs": [
    {
     "data": {
      "image/png": "[encoded data removed]",
      "text/plain": [
       "<Figure size 432x288 with 1 Axes>"
      ]
     },
     "metadata": {
      "needs_background": "light"
     },
     "output_type": "display_data"
    },
    {
     "data": {
      "image/png": "[encoded data removed]",
      "text/plain": [
       "<Figure size 432x288 with 1 Axes>"
      ]
     },
     "metadata": {
      "needs_background": "light"
     },
     "output_type": "display_data"
    }
   ],
   "source": [
    "acc = history.history['acc']\n",
    "val_acc = history.history['val_acc']\n",
    "loss = history.history['loss']\n",
    "val_loss = history.history['val_loss']\n",
    "\n",
    "epochs = range(len(acc))\n",
    "\n",
    "plt.plot(epochs, acc, 'bo', label='Training acc')\n",
    "plt.plot(epochs, val_acc, 'b', label='Validation acc')\n",
    "plt.title('Training and validation accuracy')\n",
    "plt.legend()\n",
    "\n",
    "plt.figure()\n",
    "\n",
    "plt.plot(epochs, loss, 'bo', label='Training loss')\n",
    "plt.plot(epochs, val_loss, 'b', label='Validation loss')\n",
    "plt.title('Training and validation loss')\n",
    "plt.legend()\n",
    "\n",
    "plt.show()"
   ]
  },
  {
   "cell_type": "code",
   "execution_count": null,
   "metadata": {},
   "outputs": [],
   "source": []
  }
 ],
 "metadata": {
  "kernelspec": {
   "display_name": "Python 3",
   "language": "python",
   "name": "python3"
  },
  "language_info": {
   "codemirror_mode": {
    "name": "ipython",
    "version": 3
   },
   "file_extension": ".py",
   "mimetype": "text/x-python",
   "name": "python",
   "nbconvert_exporter": "python",
   "pygments_lexer": "ipython3",
   "version": "3.6.10"
  }
 },
 "nbformat": 4,
 "nbformat_minor": 4
}
